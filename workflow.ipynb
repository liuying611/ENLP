{
 "cells": [
  {
   "cell_type": "markdown",
   "metadata": {},
   "source": [
    "# Data Processing"
   ]
  },
  {
   "cell_type": "markdown",
   "metadata": {},
   "source": [
    "### Pre-processing\n",
    "- cleaning and Lemma\n",
    "- sentiment analysis\n",
    "- balancing and sampling\n",
    "- visualizing"
   ]
  },
  {
   "cell_type": "code",
   "execution_count": 1,
   "metadata": {},
   "outputs": [
    {
     "name": "stderr",
     "output_type": "stream",
     "text": [
      "[nltk_data] Downloading package wordnet to /Users/yaoyao/nltk_data...\n",
      "[nltk_data]   Package wordnet is already up-to-date!\n",
      "[nltk_data] Downloading package punkt to /Users/yaoyao/nltk_data...\n",
      "[nltk_data]   Package punkt is already up-to-date!\n"
     ]
    }
   ],
   "source": [
    "from EDA import PreProcessing"
   ]
  },
  {
   "cell_type": "code",
   "execution_count": 2,
   "metadata": {},
   "outputs": [
    {
     "name": "stdout",
     "output_type": "stream",
     "text": [
      "Start reading data from ./data/News_Category_Dataset_v3.json...\n",
      "Reorganizing categories...\n",
      "Srarting cleaning data...\n",
      "number of null values: category        0\n",
      "text        27681\n",
      "dtype: int64\n",
      "number of duplicates: 399\n",
      "Cleaning data finished\n",
      "number of rows after cleaning: 181447\n",
      "Starting sentiment analysis...\n"
     ]
    },
    {
     "data": {
      "text/html": [
       "<div>\n",
       "<style scoped>\n",
       "    .dataframe tbody tr th:only-of-type {\n",
       "        vertical-align: middle;\n",
       "    }\n",
       "\n",
       "    .dataframe tbody tr th {\n",
       "        vertical-align: top;\n",
       "    }\n",
       "\n",
       "    .dataframe thead th {\n",
       "        text-align: right;\n",
       "    }\n",
       "</style>\n",
       "<table border=\"1\" class=\"dataframe\">\n",
       "  <thead>\n",
       "    <tr style=\"text-align: right;\">\n",
       "      <th></th>\n",
       "      <th>category</th>\n",
       "      <th>text</th>\n",
       "      <th>sa</th>\n",
       "    </tr>\n",
       "  </thead>\n",
       "  <tbody>\n",
       "    <tr>\n",
       "      <th>0</th>\n",
       "      <td>U.S. NEWS</td>\n",
       "      <td>4 million american roll sleeve omicrontargeted...</td>\n",
       "      <td>-0.1280</td>\n",
       "    </tr>\n",
       "    <tr>\n",
       "      <th>1</th>\n",
       "      <td>U.S. NEWS</td>\n",
       "      <td>american airline flyer charged banned life pun...</td>\n",
       "      <td>-0.7269</td>\n",
       "    </tr>\n",
       "    <tr>\n",
       "      <th>2</th>\n",
       "      <td>ENTERTAINMENT</td>\n",
       "      <td>23 funniest tweet cat dog week sept 1723 dog d...</td>\n",
       "      <td>0.5574</td>\n",
       "    </tr>\n",
       "    <tr>\n",
       "      <th>3</th>\n",
       "      <td>PARENTING</td>\n",
       "      <td>funniest tweet parent week sept 1723 accidenta...</td>\n",
       "      <td>0.3400</td>\n",
       "    </tr>\n",
       "    <tr>\n",
       "      <th>4</th>\n",
       "      <td>U.S. NEWS</td>\n",
       "      <td>woman called cop black birdwatcher loses lawsu...</td>\n",
       "      <td>-0.8957</td>\n",
       "    </tr>\n",
       "    <tr>\n",
       "      <th>...</th>\n",
       "      <td>...</td>\n",
       "      <td>...</td>\n",
       "      <td>...</td>\n",
       "    </tr>\n",
       "    <tr>\n",
       "      <th>209522</th>\n",
       "      <td>SCIENCE &amp; TECH</td>\n",
       "      <td>rim ceo thorsten heins significant plan blackb...</td>\n",
       "      <td>0.5106</td>\n",
       "    </tr>\n",
       "    <tr>\n",
       "      <th>209523</th>\n",
       "      <td>SPORTS</td>\n",
       "      <td>maria sharapova stunned victoria azarenka aust...</td>\n",
       "      <td>0.2732</td>\n",
       "    </tr>\n",
       "    <tr>\n",
       "      <th>209524</th>\n",
       "      <td>SPORTS</td>\n",
       "      <td>giant patriot jet colt among improbable super ...</td>\n",
       "      <td>0.7351</td>\n",
       "    </tr>\n",
       "    <tr>\n",
       "      <th>209525</th>\n",
       "      <td>SPORTS</td>\n",
       "      <td>aldon smith arrested 49ers linebacker busted d...</td>\n",
       "      <td>-0.4767</td>\n",
       "    </tr>\n",
       "    <tr>\n",
       "      <th>209526</th>\n",
       "      <td>SPORTS</td>\n",
       "      <td>dwight howard rip teammate magic loss hornet f...</td>\n",
       "      <td>-0.4215</td>\n",
       "    </tr>\n",
       "  </tbody>\n",
       "</table>\n",
       "<p>181447 rows × 3 columns</p>\n",
       "</div>"
      ],
      "text/plain": [
       "              category                                               text  \\\n",
       "0            U.S. NEWS  4 million american roll sleeve omicrontargeted...   \n",
       "1            U.S. NEWS  american airline flyer charged banned life pun...   \n",
       "2        ENTERTAINMENT  23 funniest tweet cat dog week sept 1723 dog d...   \n",
       "3            PARENTING  funniest tweet parent week sept 1723 accidenta...   \n",
       "4            U.S. NEWS  woman called cop black birdwatcher loses lawsu...   \n",
       "...                ...                                                ...   \n",
       "209522  SCIENCE & TECH  rim ceo thorsten heins significant plan blackb...   \n",
       "209523          SPORTS  maria sharapova stunned victoria azarenka aust...   \n",
       "209524          SPORTS  giant patriot jet colt among improbable super ...   \n",
       "209525          SPORTS  aldon smith arrested 49ers linebacker busted d...   \n",
       "209526          SPORTS  dwight howard rip teammate magic loss hornet f...   \n",
       "\n",
       "            sa  \n",
       "0      -0.1280  \n",
       "1      -0.7269  \n",
       "2       0.5574  \n",
       "3       0.3400  \n",
       "4      -0.8957  \n",
       "...        ...  \n",
       "209522  0.5106  \n",
       "209523  0.2732  \n",
       "209524  0.7351  \n",
       "209525 -0.4767  \n",
       "209526 -0.4215  \n",
       "\n",
       "[181447 rows x 3 columns]"
      ]
     },
     "execution_count": 2,
     "metadata": {},
     "output_type": "execute_result"
    }
   ],
   "source": [
    "fpath = './data/News_Category_Dataset_v3.json'\n",
    "pp = PreProcessing(fpath)\n",
    "pp.get_data()\n",
    "pp.reorganize_category()\n",
    "pp.cleaning()\n",
    "pp.sentiment_analysis()"
   ]
  },
  {
   "cell_type": "code",
   "execution_count": 3,
   "metadata": {},
   "outputs": [],
   "source": [
    "# Sample data to the size we want\n",
    "# sample top 10 categories\n",
    "df_all_category_nobalance = pp.sample_data(balance=False)"
   ]
  },
  {
   "cell_type": "code",
   "execution_count": 4,
   "metadata": {},
   "outputs": [
    {
     "data": {
      "text/html": [
       "<div>\n",
       "<style scoped>\n",
       "    .dataframe tbody tr th:only-of-type {\n",
       "        vertical-align: middle;\n",
       "    }\n",
       "\n",
       "    .dataframe tbody tr th {\n",
       "        vertical-align: top;\n",
       "    }\n",
       "\n",
       "    .dataframe thead th {\n",
       "        text-align: right;\n",
       "    }\n",
       "</style>\n",
       "<table border=\"1\" class=\"dataframe\">\n",
       "  <thead>\n",
       "    <tr style=\"text-align: right;\">\n",
       "      <th></th>\n",
       "      <th>category</th>\n",
       "      <th>text</th>\n",
       "      <th>sa</th>\n",
       "    </tr>\n",
       "  </thead>\n",
       "  <tbody>\n",
       "    <tr>\n",
       "      <th>172769</th>\n",
       "      <td>TRAVEL</td>\n",
       "      <td>take vacation right really cant totally stay a...</td>\n",
       "      <td>-0.4588</td>\n",
       "    </tr>\n",
       "    <tr>\n",
       "      <th>203937</th>\n",
       "      <td>STYLE &amp; BEAUTY</td>\n",
       "      <td>amber heard double denim look day actress look...</td>\n",
       "      <td>0.0516</td>\n",
       "    </tr>\n",
       "    <tr>\n",
       "      <th>147959</th>\n",
       "      <td>WELLNESS</td>\n",
       "      <td>cancer patient brain give clue disease spread ...</td>\n",
       "      <td>-0.8689</td>\n",
       "    </tr>\n",
       "    <tr>\n",
       "      <th>6164</th>\n",
       "      <td>U.S. NEWS</td>\n",
       "      <td>body last missing victim california boat fire ...</td>\n",
       "      <td>-0.9360</td>\n",
       "    </tr>\n",
       "    <tr>\n",
       "      <th>30591</th>\n",
       "      <td>POLITICS</td>\n",
       "      <td>rightwing medium politicize murder nypd office...</td>\n",
       "      <td>-0.9201</td>\n",
       "    </tr>\n",
       "  </tbody>\n",
       "</table>\n",
       "</div>"
      ],
      "text/plain": [
       "              category                                               text  \\\n",
       "172769          TRAVEL  take vacation right really cant totally stay a...   \n",
       "203937  STYLE & BEAUTY  amber heard double denim look day actress look...   \n",
       "147959        WELLNESS  cancer patient brain give clue disease spread ...   \n",
       "6164         U.S. NEWS  body last missing victim california boat fire ...   \n",
       "30591         POLITICS  rightwing medium politicize murder nypd office...   \n",
       "\n",
       "            sa  \n",
       "172769 -0.4588  \n",
       "203937  0.0516  \n",
       "147959 -0.8689  \n",
       "6164   -0.9360  \n",
       "30591  -0.9201  "
      ]
     },
     "execution_count": 4,
     "metadata": {},
     "output_type": "execute_result"
    }
   ],
   "source": [
    "df_all_category_nobalance.head()"
   ]
  },
  {
   "cell_type": "code",
   "execution_count": 6,
   "metadata": {},
   "outputs": [
    {
     "data": {
      "text/plain": [
       "(181447, 3)"
      ]
     },
     "execution_count": 6,
     "metadata": {},
     "output_type": "execute_result"
    }
   ],
   "source": [
    "df_all_category_nobalance.shape"
   ]
  },
  {
   "cell_type": "code",
   "execution_count": 8,
   "metadata": {},
   "outputs": [],
   "source": [
    "df_10_category_nobalance = pp.sample_data(top_k_category=10, balance=False)"
   ]
  },
  {
   "cell_type": "code",
   "execution_count": 10,
   "metadata": {},
   "outputs": [
    {
     "data": {
      "text/html": [
       "<div>\n",
       "<style scoped>\n",
       "    .dataframe tbody tr th:only-of-type {\n",
       "        vertical-align: middle;\n",
       "    }\n",
       "\n",
       "    .dataframe tbody tr th {\n",
       "        vertical-align: top;\n",
       "    }\n",
       "\n",
       "    .dataframe thead th {\n",
       "        text-align: right;\n",
       "    }\n",
       "</style>\n",
       "<table border=\"1\" class=\"dataframe\">\n",
       "  <thead>\n",
       "    <tr style=\"text-align: right;\">\n",
       "      <th></th>\n",
       "      <th>category</th>\n",
       "      <th>text</th>\n",
       "      <th>sa</th>\n",
       "    </tr>\n",
       "  </thead>\n",
       "  <tbody>\n",
       "    <tr>\n",
       "      <th>83838</th>\n",
       "      <td>GROUPS VOICES</td>\n",
       "      <td>regina king call sisterhood among woman hollyw...</td>\n",
       "      <td>0.4939</td>\n",
       "    </tr>\n",
       "    <tr>\n",
       "      <th>61459</th>\n",
       "      <td>POLITICS</td>\n",
       "      <td>mike pences rnc speech give voter want hear sp...</td>\n",
       "      <td>0.0772</td>\n",
       "    </tr>\n",
       "    <tr>\n",
       "      <th>31447</th>\n",
       "      <td>POLITICS</td>\n",
       "      <td>senate republican look strike deal health care...</td>\n",
       "      <td>0.7096</td>\n",
       "    </tr>\n",
       "    <tr>\n",
       "      <th>194392</th>\n",
       "      <td>STYLE &amp; BEAUTY</td>\n",
       "      <td>kate middleton kim sears best hair kate middle...</td>\n",
       "      <td>0.7579</td>\n",
       "    </tr>\n",
       "    <tr>\n",
       "      <th>182087</th>\n",
       "      <td>STYLE &amp; BEAUTY</td>\n",
       "      <td>kate middleton return clothes kim kardashian s...</td>\n",
       "      <td>0.6369</td>\n",
       "    </tr>\n",
       "  </tbody>\n",
       "</table>\n",
       "</div>"
      ],
      "text/plain": [
       "              category                                               text  \\\n",
       "83838    GROUPS VOICES  regina king call sisterhood among woman hollyw...   \n",
       "61459         POLITICS  mike pences rnc speech give voter want hear sp...   \n",
       "31447         POLITICS  senate republican look strike deal health care...   \n",
       "194392  STYLE & BEAUTY  kate middleton kim sears best hair kate middle...   \n",
       "182087  STYLE & BEAUTY  kate middleton return clothes kim kardashian s...   \n",
       "\n",
       "            sa  \n",
       "83838   0.4939  \n",
       "61459   0.0772  \n",
       "31447   0.7096  \n",
       "194392  0.7579  \n",
       "182087  0.6369  "
      ]
     },
     "execution_count": 10,
     "metadata": {},
     "output_type": "execute_result"
    }
   ],
   "source": [
    "df_10_category_nobalance.head() "
   ]
  },
  {
   "cell_type": "code",
   "execution_count": 11,
   "metadata": {},
   "outputs": [
    {
     "data": {
      "text/plain": [
       "(135832, 3)"
      ]
     },
     "execution_count": 11,
     "metadata": {},
     "output_type": "execute_result"
    }
   ],
   "source": [
    "df_10_category_nobalance.shape"
   ]
  },
  {
   "cell_type": "code",
   "execution_count": 15,
   "metadata": {},
   "outputs": [
    {
     "data": {
      "text/html": [
       "<div>\n",
       "<style scoped>\n",
       "    .dataframe tbody tr th:only-of-type {\n",
       "        vertical-align: middle;\n",
       "    }\n",
       "\n",
       "    .dataframe tbody tr th {\n",
       "        vertical-align: top;\n",
       "    }\n",
       "\n",
       "    .dataframe thead th {\n",
       "        text-align: right;\n",
       "    }\n",
       "</style>\n",
       "<table border=\"1\" class=\"dataframe\">\n",
       "  <thead>\n",
       "    <tr style=\"text-align: right;\">\n",
       "      <th></th>\n",
       "      <th>category</th>\n",
       "      <th>text</th>\n",
       "      <th>sa</th>\n",
       "    </tr>\n",
       "  </thead>\n",
       "  <tbody>\n",
       "    <tr>\n",
       "      <th>202518</th>\n",
       "      <td>WELLNESS</td>\n",
       "      <td>eat theory eating plantbased organic diet make...</td>\n",
       "      <td>0.4767</td>\n",
       "    </tr>\n",
       "    <tr>\n",
       "      <th>142490</th>\n",
       "      <td>TRAVEL</td>\n",
       "      <td>travel based american girl doll samantha visit...</td>\n",
       "      <td>0.0000</td>\n",
       "    </tr>\n",
       "    <tr>\n",
       "      <th>200780</th>\n",
       "      <td>WELLNESS</td>\n",
       "      <td>motherless daughter get mother day mother day ...</td>\n",
       "      <td>0.2500</td>\n",
       "    </tr>\n",
       "    <tr>\n",
       "      <th>94620</th>\n",
       "      <td>WORLD NEWS</td>\n",
       "      <td>quick fix greece let face private investor rig...</td>\n",
       "      <td>0.0000</td>\n",
       "    </tr>\n",
       "    <tr>\n",
       "      <th>50250</th>\n",
       "      <td>ENTERTAINMENT</td>\n",
       "      <td>andy cohen reveals skin cancer diagnosis live ...</td>\n",
       "      <td>-0.6597</td>\n",
       "    </tr>\n",
       "  </tbody>\n",
       "</table>\n",
       "</div>"
      ],
      "text/plain": [
       "             category                                               text  \\\n",
       "202518       WELLNESS  eat theory eating plantbased organic diet make...   \n",
       "142490         TRAVEL  travel based american girl doll samantha visit...   \n",
       "200780       WELLNESS  motherless daughter get mother day mother day ...   \n",
       "94620      WORLD NEWS  quick fix greece let face private investor rig...   \n",
       "50250   ENTERTAINMENT  andy cohen reveals skin cancer diagnosis live ...   \n",
       "\n",
       "            sa  \n",
       "202518  0.4767  \n",
       "142490  0.0000  \n",
       "200780  0.2500  \n",
       "94620   0.0000  \n",
       "50250  -0.6597  "
      ]
     },
     "execution_count": 15,
     "metadata": {},
     "output_type": "execute_result"
    }
   ],
   "source": [
    "df_10_category_balance = pp.sample_data(top_k_category=10, balance=True)\n",
    "df_10_category_balance.head() "
   ]
  },
  {
   "cell_type": "code",
   "execution_count": 16,
   "metadata": {},
   "outputs": [
    {
     "data": {
      "text/plain": [
       "(95832, 3)"
      ]
     },
     "execution_count": 16,
     "metadata": {},
     "output_type": "execute_result"
    }
   ],
   "source": [
    "df_10_category_balance.shape"
   ]
  },
  {
   "cell_type": "code",
   "execution_count": 21,
   "metadata": {},
   "outputs": [
    {
     "data": {
      "text/html": [
       "<div>\n",
       "<style scoped>\n",
       "    .dataframe tbody tr th:only-of-type {\n",
       "        vertical-align: middle;\n",
       "    }\n",
       "\n",
       "    .dataframe tbody tr th {\n",
       "        vertical-align: top;\n",
       "    }\n",
       "\n",
       "    .dataframe thead th {\n",
       "        text-align: right;\n",
       "    }\n",
       "</style>\n",
       "<table border=\"1\" class=\"dataframe\">\n",
       "  <thead>\n",
       "    <tr style=\"text-align: right;\">\n",
       "      <th></th>\n",
       "      <th>category</th>\n",
       "      <th>text</th>\n",
       "      <th>sa</th>\n",
       "    </tr>\n",
       "  </thead>\n",
       "  <tbody>\n",
       "    <tr>\n",
       "      <th>152034</th>\n",
       "      <td>FOOD &amp; DRINK</td>\n",
       "      <td>dessert recipe raisin lover hater steer clear ...</td>\n",
       "      <td>-0.3182</td>\n",
       "    </tr>\n",
       "    <tr>\n",
       "      <th>23540</th>\n",
       "      <td>GROUPS VOICES</td>\n",
       "      <td>trump different response orlando vega massacre...</td>\n",
       "      <td>-0.3612</td>\n",
       "    </tr>\n",
       "    <tr>\n",
       "      <th>98342</th>\n",
       "      <td>POLITICS</td>\n",
       "      <td>friday talking point double standard hypocrisy...</td>\n",
       "      <td>0.6597</td>\n",
       "    </tr>\n",
       "    <tr>\n",
       "      <th>146267</th>\n",
       "      <td>FOOD &amp; DRINK</td>\n",
       "      <td>postthanksgiving detox diet overindulging than...</td>\n",
       "      <td>0.1280</td>\n",
       "    </tr>\n",
       "    <tr>\n",
       "      <th>137610</th>\n",
       "      <td>WELLNESS</td>\n",
       "      <td>6 quote encourage march march stress strain co...</td>\n",
       "      <td>0.0772</td>\n",
       "    </tr>\n",
       "  </tbody>\n",
       "</table>\n",
       "</div>"
      ],
      "text/plain": [
       "             category                                               text  \\\n",
       "152034   FOOD & DRINK  dessert recipe raisin lover hater steer clear ...   \n",
       "23540   GROUPS VOICES  trump different response orlando vega massacre...   \n",
       "98342        POLITICS  friday talking point double standard hypocrisy...   \n",
       "146267   FOOD & DRINK  postthanksgiving detox diet overindulging than...   \n",
       "137610       WELLNESS  6 quote encourage march march stress strain co...   \n",
       "\n",
       "            sa  \n",
       "152034 -0.3182  \n",
       "23540  -0.3612  \n",
       "98342   0.6597  \n",
       "146267  0.1280  \n",
       "137610  0.0772  "
      ]
     },
     "execution_count": 21,
     "metadata": {},
     "output_type": "execute_result"
    }
   ],
   "source": [
    "df_10_category_balance_60k = df_10_category_balance.sample(n=60000, random_state=42)\n",
    "df_10_category_balance_60k.head()"
   ]
  },
  {
   "cell_type": "code",
   "execution_count": 22,
   "metadata": {},
   "outputs": [
    {
     "data": {
      "text/plain": [
       "(60000, 3)"
      ]
     },
     "execution_count": 22,
     "metadata": {},
     "output_type": "execute_result"
    }
   ],
   "source": [
    "df_10_category_balance_60k.shape"
   ]
  },
  {
   "cell_type": "code",
   "execution_count": 23,
   "metadata": {},
   "outputs": [
    {
     "data": {
      "text/html": [
       "<div>\n",
       "<style scoped>\n",
       "    .dataframe tbody tr th:only-of-type {\n",
       "        vertical-align: middle;\n",
       "    }\n",
       "\n",
       "    .dataframe tbody tr th {\n",
       "        vertical-align: top;\n",
       "    }\n",
       "\n",
       "    .dataframe thead th {\n",
       "        text-align: right;\n",
       "    }\n",
       "</style>\n",
       "<table border=\"1\" class=\"dataframe\">\n",
       "  <thead>\n",
       "    <tr style=\"text-align: right;\">\n",
       "      <th></th>\n",
       "      <th>category</th>\n",
       "      <th>text</th>\n",
       "      <th>sa</th>\n",
       "    </tr>\n",
       "  </thead>\n",
       "  <tbody>\n",
       "    <tr>\n",
       "      <th>152034</th>\n",
       "      <td>FOOD &amp; DRINK</td>\n",
       "      <td>dessert recipe raisin lover hater steer clear ...</td>\n",
       "      <td>-0.3182</td>\n",
       "    </tr>\n",
       "    <tr>\n",
       "      <th>23540</th>\n",
       "      <td>GROUPS VOICES</td>\n",
       "      <td>trump different response orlando vega massacre...</td>\n",
       "      <td>-0.3612</td>\n",
       "    </tr>\n",
       "    <tr>\n",
       "      <th>98342</th>\n",
       "      <td>POLITICS</td>\n",
       "      <td>friday talking point double standard hypocrisy...</td>\n",
       "      <td>0.6597</td>\n",
       "    </tr>\n",
       "    <tr>\n",
       "      <th>146267</th>\n",
       "      <td>FOOD &amp; DRINK</td>\n",
       "      <td>postthanksgiving detox diet overindulging than...</td>\n",
       "      <td>0.1280</td>\n",
       "    </tr>\n",
       "    <tr>\n",
       "      <th>137610</th>\n",
       "      <td>WELLNESS</td>\n",
       "      <td>6 quote encourage march march stress strain co...</td>\n",
       "      <td>0.0772</td>\n",
       "    </tr>\n",
       "  </tbody>\n",
       "</table>\n",
       "</div>"
      ],
      "text/plain": [
       "             category                                               text  \\\n",
       "152034   FOOD & DRINK  dessert recipe raisin lover hater steer clear ...   \n",
       "23540   GROUPS VOICES  trump different response orlando vega massacre...   \n",
       "98342        POLITICS  friday talking point double standard hypocrisy...   \n",
       "146267   FOOD & DRINK  postthanksgiving detox diet overindulging than...   \n",
       "137610       WELLNESS  6 quote encourage march march stress strain co...   \n",
       "\n",
       "            sa  \n",
       "152034 -0.3182  \n",
       "23540  -0.3612  \n",
       "98342   0.6597  \n",
       "146267  0.1280  \n",
       "137610  0.0772  "
      ]
     },
     "execution_count": 23,
     "metadata": {},
     "output_type": "execute_result"
    }
   ],
   "source": [
    "df_10_category_balance_30k = df_10_category_balance.sample(n=30000, random_state=42)\n",
    "df_10_category_balance_30k.head()"
   ]
  },
  {
   "cell_type": "code",
   "execution_count": 24,
   "metadata": {},
   "outputs": [
    {
     "data": {
      "text/plain": [
       "(30000, 3)"
      ]
     },
     "execution_count": 24,
     "metadata": {},
     "output_type": "execute_result"
    }
   ],
   "source": [
    "df_10_category_balance_30k.shape"
   ]
  },
  {
   "cell_type": "code",
   "execution_count": 25,
   "metadata": {},
   "outputs": [
    {
     "data": {
      "text/html": [
       "<div>\n",
       "<style scoped>\n",
       "    .dataframe tbody tr th:only-of-type {\n",
       "        vertical-align: middle;\n",
       "    }\n",
       "\n",
       "    .dataframe tbody tr th {\n",
       "        vertical-align: top;\n",
       "    }\n",
       "\n",
       "    .dataframe thead th {\n",
       "        text-align: right;\n",
       "    }\n",
       "</style>\n",
       "<table border=\"1\" class=\"dataframe\">\n",
       "  <thead>\n",
       "    <tr style=\"text-align: right;\">\n",
       "      <th></th>\n",
       "      <th>category</th>\n",
       "      <th>text</th>\n",
       "      <th>sa</th>\n",
       "    </tr>\n",
       "  </thead>\n",
       "  <tbody>\n",
       "    <tr>\n",
       "      <th>152034</th>\n",
       "      <td>FOOD &amp; DRINK</td>\n",
       "      <td>dessert recipe raisin lover hater steer clear ...</td>\n",
       "      <td>-0.3182</td>\n",
       "    </tr>\n",
       "    <tr>\n",
       "      <th>23540</th>\n",
       "      <td>GROUPS VOICES</td>\n",
       "      <td>trump different response orlando vega massacre...</td>\n",
       "      <td>-0.3612</td>\n",
       "    </tr>\n",
       "    <tr>\n",
       "      <th>98342</th>\n",
       "      <td>POLITICS</td>\n",
       "      <td>friday talking point double standard hypocrisy...</td>\n",
       "      <td>0.6597</td>\n",
       "    </tr>\n",
       "    <tr>\n",
       "      <th>146267</th>\n",
       "      <td>FOOD &amp; DRINK</td>\n",
       "      <td>postthanksgiving detox diet overindulging than...</td>\n",
       "      <td>0.1280</td>\n",
       "    </tr>\n",
       "    <tr>\n",
       "      <th>137610</th>\n",
       "      <td>WELLNESS</td>\n",
       "      <td>6 quote encourage march march stress strain co...</td>\n",
       "      <td>0.0772</td>\n",
       "    </tr>\n",
       "  </tbody>\n",
       "</table>\n",
       "</div>"
      ],
      "text/plain": [
       "             category                                               text  \\\n",
       "152034   FOOD & DRINK  dessert recipe raisin lover hater steer clear ...   \n",
       "23540   GROUPS VOICES  trump different response orlando vega massacre...   \n",
       "98342        POLITICS  friday talking point double standard hypocrisy...   \n",
       "146267   FOOD & DRINK  postthanksgiving detox diet overindulging than...   \n",
       "137610       WELLNESS  6 quote encourage march march stress strain co...   \n",
       "\n",
       "            sa  \n",
       "152034 -0.3182  \n",
       "23540  -0.3612  \n",
       "98342   0.6597  \n",
       "146267  0.1280  \n",
       "137610  0.0772  "
      ]
     },
     "execution_count": 25,
     "metadata": {},
     "output_type": "execute_result"
    }
   ],
   "source": [
    "df_10_category_balance_10k = df_10_category_balance.sample(n=10000, random_state=42)\n",
    "df_10_category_balance_10k.head()"
   ]
  },
  {
   "cell_type": "code",
   "execution_count": 26,
   "metadata": {},
   "outputs": [
    {
     "data": {
      "text/plain": [
       "(10000, 3)"
      ]
     },
     "execution_count": 26,
     "metadata": {},
     "output_type": "execute_result"
    }
   ],
   "source": [
    "df_10_category_balance_10k.shape"
   ]
  },
  {
   "cell_type": "code",
   "execution_count": 27,
   "metadata": {},
   "outputs": [
    {
     "data": {
      "text/html": [
       "<div>\n",
       "<style scoped>\n",
       "    .dataframe tbody tr th:only-of-type {\n",
       "        vertical-align: middle;\n",
       "    }\n",
       "\n",
       "    .dataframe tbody tr th {\n",
       "        vertical-align: top;\n",
       "    }\n",
       "\n",
       "    .dataframe thead th {\n",
       "        text-align: right;\n",
       "    }\n",
       "</style>\n",
       "<table border=\"1\" class=\"dataframe\">\n",
       "  <thead>\n",
       "    <tr style=\"text-align: right;\">\n",
       "      <th></th>\n",
       "      <th>category</th>\n",
       "      <th>text</th>\n",
       "      <th>sa</th>\n",
       "    </tr>\n",
       "  </thead>\n",
       "  <tbody>\n",
       "    <tr>\n",
       "      <th>152034</th>\n",
       "      <td>FOOD &amp; DRINK</td>\n",
       "      <td>dessert recipe raisin lover hater steer clear ...</td>\n",
       "      <td>-0.3182</td>\n",
       "    </tr>\n",
       "    <tr>\n",
       "      <th>23540</th>\n",
       "      <td>GROUPS VOICES</td>\n",
       "      <td>trump different response orlando vega massacre...</td>\n",
       "      <td>-0.3612</td>\n",
       "    </tr>\n",
       "    <tr>\n",
       "      <th>98342</th>\n",
       "      <td>POLITICS</td>\n",
       "      <td>friday talking point double standard hypocrisy...</td>\n",
       "      <td>0.6597</td>\n",
       "    </tr>\n",
       "    <tr>\n",
       "      <th>146267</th>\n",
       "      <td>FOOD &amp; DRINK</td>\n",
       "      <td>postthanksgiving detox diet overindulging than...</td>\n",
       "      <td>0.1280</td>\n",
       "    </tr>\n",
       "    <tr>\n",
       "      <th>137610</th>\n",
       "      <td>WELLNESS</td>\n",
       "      <td>6 quote encourage march march stress strain co...</td>\n",
       "      <td>0.0772</td>\n",
       "    </tr>\n",
       "  </tbody>\n",
       "</table>\n",
       "</div>"
      ],
      "text/plain": [
       "             category                                               text  \\\n",
       "152034   FOOD & DRINK  dessert recipe raisin lover hater steer clear ...   \n",
       "23540   GROUPS VOICES  trump different response orlando vega massacre...   \n",
       "98342        POLITICS  friday talking point double standard hypocrisy...   \n",
       "146267   FOOD & DRINK  postthanksgiving detox diet overindulging than...   \n",
       "137610       WELLNESS  6 quote encourage march march stress strain co...   \n",
       "\n",
       "            sa  \n",
       "152034 -0.3182  \n",
       "23540  -0.3612  \n",
       "98342   0.6597  \n",
       "146267  0.1280  \n",
       "137610  0.0772  "
      ]
     },
     "execution_count": 27,
     "metadata": {},
     "output_type": "execute_result"
    }
   ],
   "source": [
    "df_10_category_balance_3k = df_10_category_balance.sample(n=3000, random_state=42)\n",
    "df_10_category_balance_3k.head()"
   ]
  },
  {
   "cell_type": "code",
   "execution_count": 28,
   "metadata": {},
   "outputs": [
    {
     "data": {
      "text/plain": [
       "(3000, 3)"
      ]
     },
     "execution_count": 28,
     "metadata": {},
     "output_type": "execute_result"
    }
   ],
   "source": [
    "df_10_category_balance_3k.shape"
   ]
  },
  {
   "cell_type": "code",
   "execution_count": 29,
   "metadata": {},
   "outputs": [],
   "source": [
    "# Save the data\n",
    "df_all_category_nobalance.to_csv('./data/df_all_category_nobalance.csv', index=False)\n",
    "df_10_category_nobalance.to_csv('./data/df_10_category_nobalance.csv', index=False)\n",
    "df_10_category_balance.to_csv('./data/df_10_category_balance.csv', index=False)\n",
    "df_10_category_balance_60k.to_csv('./data/df_10_category_balance_60k.csv', index=False)\n",
    "df_10_category_balance_30k.to_csv('./data/df_10_category_balance_30k.csv', index=False)\n",
    "df_10_category_balance_10k.to_csv('./data/df_10_category_balance_10k.csv', index=False)\n",
    "df_10_category_balance_3k.to_csv('./data/df_10_category_balance_3k.csv', index=False)"
   ]
  },
  {
   "cell_type": "code",
   "execution_count": 34,
   "metadata": {},
   "outputs": [
    {
     "data": {
      "image/png": "[encoded data removed]",
      "text/plain": [
       "<Figure size 1200x600 with 3 Axes>"
      ]
     },
     "metadata": {},
     "output_type": "display_data"
    }
   ],
   "source": [
    "import matplotlib.pyplot as plt\n",
    "plt.figure(figsize=(12, 6))\n",
    "plt.subplot(1, 3, 1)\n",
    "plt.pie(x=df_all_category_nobalance.category.value_counts(), labels=df_all_category_nobalance.category.value_counts().index, autopct='%1.1f%%', textprops={'fontsize': 4, 'alpha':.7})\n",
    "plt.title('All Categories, No Balance, 100k')\n",
    "plt.subplot(1, 3, 2)\n",
    "plt.pie(x=df_10_category_nobalance.category.value_counts(), labels=df_10_category_nobalance.category.value_counts().index, autopct='%1.1f%%', textprops={'fontsize': 4, 'alpha':.7})\n",
    "plt.title('10 Categories, No Balance, 100k')\n",
    "plt.subplot(1, 3, 3)\n",
    "plt.pie(x=df_10_category_balance_60k.category.value_counts(), labels=df_10_category_balance_60k.category.value_counts().index, autopct='%1.1f%%', textprops={'fontsize': 4, 'alpha':.7})\n",
    "plt.title('10 Categories, Balance, 60k')\n",
    "#plt.suptitle('Category Distribution of Sampled News Datasets', fontsize=16)\n",
    "plt.tight_layout()\n",
    "plt.show()"
   ]
  },
  {
   "cell_type": "markdown",
   "metadata": {},
   "source": [
    "### DataAnalysing & PCA Dimension Reduction"
   ]
  },
  {
   "cell_type": "code",
   "execution_count": 1,
   "metadata": {},
   "outputs": [
    {
     "name": "stderr",
     "output_type": "stream",
     "text": [
      "[nltk_data] Downloading package wordnet to /Users/yaoyao/nltk_data...\n",
      "[nltk_data]   Package wordnet is already up-to-date!\n",
      "[nltk_data] Downloading package punkt to /Users/yaoyao/nltk_data...\n",
      "[nltk_data]   Package punkt is already up-to-date!\n"
     ]
    }
   ],
   "source": [
    "from EDA import DataAnlysisPCA\n",
    "import pandas as pd\n",
    "from sklearn.decomposition import PCA"
   ]
  },
  {
   "cell_type": "code",
   "execution_count": 3,
   "metadata": {},
   "outputs": [
    {
     "data": {
      "image/png": "[encoded data removed]",
      "text/plain": [
       "<Figure size 600x300 with 1 Axes>"
      ]
     },
     "metadata": {},
     "output_type": "display_data"
    },
    {
     "name": "stdout",
     "output_type": "stream",
     "text": [
      "99 Percentile of Text Lengths: 37.0\n"
     ]
    },
    {
     "name": "stderr",
     "output_type": "stream",
     "text": [
      "/Users/yaoyao/miniconda3/envs/tf/lib/python3.9/site-packages/sklearn/utils/deprecation.py:87: FutureWarning: Function get_feature_names is deprecated; get_feature_names is deprecated in 1.0 and will be removed in 1.2. Please use get_feature_names_out instead.\n",
      "  warnings.warn(msg, category=FutureWarning)\n"
     ]
    },
    {
     "data": {
      "image/png": "[encoded data removed]",
      "text/plain": [
       "<Figure size 600x300 with 1 Axes>"
      ]
     },
     "metadata": {},
     "output_type": "display_data"
    },
    {
     "name": "stdout",
     "output_type": "stream",
     "text": [
      "\n",
      " Starting building CountMatrix of top 50 common words...\n",
      "\n",
      " Starting PCA to find best component...\n",
      "\n",
      " total most common words: 50\n",
      "Best Component that keep 90% info: 41\n"
     ]
    },
    {
     "data": {
      "image/png": "[encoded data removed]",
      "text/plain": [
       "<Figure size 600x300 with 1 Axes>"
      ]
     },
     "metadata": {},
     "output_type": "display_data"
    },
    {
     "name": "stdout",
     "output_type": "stream",
     "text": [
      "\n",
      " PCA: Starting reducing dimension...\n",
      "Best PCA Component:  41\n",
      "Max Length of Text:  37.0\n"
     ]
    },
    {
     "data": {
      "text/html": [
       "<div>\n",
       "<style scoped>\n",
       "    .dataframe tbody tr th:only-of-type {\n",
       "        vertical-align: middle;\n",
       "    }\n",
       "\n",
       "    .dataframe tbody tr th {\n",
       "        vertical-align: top;\n",
       "    }\n",
       "\n",
       "    .dataframe thead th {\n",
       "        text-align: right;\n",
       "    }\n",
       "</style>\n",
       "<table border=\"1\" class=\"dataframe\">\n",
       "  <thead>\n",
       "    <tr style=\"text-align: right;\">\n",
       "      <th></th>\n",
       "      <th>0</th>\n",
       "      <th>1</th>\n",
       "      <th>2</th>\n",
       "      <th>3</th>\n",
       "      <th>4</th>\n",
       "      <th>5</th>\n",
       "      <th>6</th>\n",
       "      <th>7</th>\n",
       "      <th>8</th>\n",
       "      <th>9</th>\n",
       "      <th>...</th>\n",
       "      <th>34</th>\n",
       "      <th>35</th>\n",
       "      <th>36</th>\n",
       "      <th>37</th>\n",
       "      <th>38</th>\n",
       "      <th>39</th>\n",
       "      <th>40</th>\n",
       "      <th>category</th>\n",
       "      <th>text</th>\n",
       "      <th>sa</th>\n",
       "    </tr>\n",
       "  </thead>\n",
       "  <tbody>\n",
       "    <tr>\n",
       "      <th>0</th>\n",
       "      <td>0.151428</td>\n",
       "      <td>0.035947</td>\n",
       "      <td>0.087063</td>\n",
       "      <td>-0.273924</td>\n",
       "      <td>0.674954</td>\n",
       "      <td>-0.120053</td>\n",
       "      <td>0.303785</td>\n",
       "      <td>-0.425135</td>\n",
       "      <td>0.021265</td>\n",
       "      <td>-0.024118</td>\n",
       "      <td>...</td>\n",
       "      <td>0.010348</td>\n",
       "      <td>-0.001589</td>\n",
       "      <td>0.035266</td>\n",
       "      <td>0.037722</td>\n",
       "      <td>-0.049623</td>\n",
       "      <td>-0.028981</td>\n",
       "      <td>-0.044501</td>\n",
       "      <td>FOOD &amp; DRINK</td>\n",
       "      <td>dessert recipe raisin lover hater steer clear ...</td>\n",
       "      <td>-0.3182</td>\n",
       "    </tr>\n",
       "    <tr>\n",
       "      <th>1</th>\n",
       "      <td>-0.466698</td>\n",
       "      <td>0.018838</td>\n",
       "      <td>-0.149268</td>\n",
       "      <td>0.135464</td>\n",
       "      <td>0.147515</td>\n",
       "      <td>-0.129369</td>\n",
       "      <td>0.200834</td>\n",
       "      <td>0.003026</td>\n",
       "      <td>0.012522</td>\n",
       "      <td>-0.245014</td>\n",
       "      <td>...</td>\n",
       "      <td>0.047330</td>\n",
       "      <td>-0.023971</td>\n",
       "      <td>-0.013238</td>\n",
       "      <td>0.038633</td>\n",
       "      <td>-0.005444</td>\n",
       "      <td>0.029891</td>\n",
       "      <td>0.026329</td>\n",
       "      <td>GROUPS VOICES</td>\n",
       "      <td>trump different response orlando vega massacre...</td>\n",
       "      <td>-0.3612</td>\n",
       "    </tr>\n",
       "    <tr>\n",
       "      <th>2</th>\n",
       "      <td>-0.175422</td>\n",
       "      <td>-0.050488</td>\n",
       "      <td>-0.103074</td>\n",
       "      <td>-0.019750</td>\n",
       "      <td>-0.024886</td>\n",
       "      <td>0.075109</td>\n",
       "      <td>-0.050610</td>\n",
       "      <td>0.037792</td>\n",
       "      <td>-0.079415</td>\n",
       "      <td>0.051732</td>\n",
       "      <td>...</td>\n",
       "      <td>-0.371552</td>\n",
       "      <td>0.568813</td>\n",
       "      <td>0.396379</td>\n",
       "      <td>0.202582</td>\n",
       "      <td>-0.319465</td>\n",
       "      <td>-0.000495</td>\n",
       "      <td>0.195415</td>\n",
       "      <td>POLITICS</td>\n",
       "      <td>friday talking point double standard hypocrisy...</td>\n",
       "      <td>0.6597</td>\n",
       "    </tr>\n",
       "    <tr>\n",
       "      <th>3</th>\n",
       "      <td>-0.231173</td>\n",
       "      <td>0.011710</td>\n",
       "      <td>-0.031049</td>\n",
       "      <td>0.043834</td>\n",
       "      <td>0.060134</td>\n",
       "      <td>-0.005823</td>\n",
       "      <td>0.021514</td>\n",
       "      <td>0.008793</td>\n",
       "      <td>0.042321</td>\n",
       "      <td>0.052710</td>\n",
       "      <td>...</td>\n",
       "      <td>0.014231</td>\n",
       "      <td>-0.002887</td>\n",
       "      <td>0.015146</td>\n",
       "      <td>0.030238</td>\n",
       "      <td>-0.018971</td>\n",
       "      <td>-0.019030</td>\n",
       "      <td>-0.035314</td>\n",
       "      <td>FOOD &amp; DRINK</td>\n",
       "      <td>postthanksgiving detox diet overindulging than...</td>\n",
       "      <td>0.1280</td>\n",
       "    </tr>\n",
       "    <tr>\n",
       "      <th>4</th>\n",
       "      <td>0.015807</td>\n",
       "      <td>-0.129936</td>\n",
       "      <td>-0.144105</td>\n",
       "      <td>-0.079773</td>\n",
       "      <td>-0.078467</td>\n",
       "      <td>0.356352</td>\n",
       "      <td>0.124544</td>\n",
       "      <td>-0.347715</td>\n",
       "      <td>-0.170228</td>\n",
       "      <td>0.401614</td>\n",
       "      <td>...</td>\n",
       "      <td>-0.067174</td>\n",
       "      <td>-0.081815</td>\n",
       "      <td>-0.024301</td>\n",
       "      <td>0.014489</td>\n",
       "      <td>0.031391</td>\n",
       "      <td>0.082833</td>\n",
       "      <td>-0.073245</td>\n",
       "      <td>WELLNESS</td>\n",
       "      <td>6 quote encourage march march stress strain co...</td>\n",
       "      <td>0.0772</td>\n",
       "    </tr>\n",
       "  </tbody>\n",
       "</table>\n",
       "<p>5 rows × 44 columns</p>\n",
       "</div>"
      ],
      "text/plain": [
       "          0         1         2         3         4         5         6  \\\n",
       "0  0.151428  0.035947  0.087063 -0.273924  0.674954 -0.120053  0.303785   \n",
       "1 -0.466698  0.018838 -0.149268  0.135464  0.147515 -0.129369  0.200834   \n",
       "2 -0.175422 -0.050488 -0.103074 -0.019750 -0.024886  0.075109 -0.050610   \n",
       "3 -0.231173  0.011710 -0.031049  0.043834  0.060134 -0.005823  0.021514   \n",
       "4  0.015807 -0.129936 -0.144105 -0.079773 -0.078467  0.356352  0.124544   \n",
       "\n",
       "          7         8         9  ...        34        35        36        37  \\\n",
       "0 -0.425135  0.021265 -0.024118  ...  0.010348 -0.001589  0.035266  0.037722   \n",
       "1  0.003026  0.012522 -0.245014  ...  0.047330 -0.023971 -0.013238  0.038633   \n",
       "2  0.037792 -0.079415  0.051732  ... -0.371552  0.568813  0.396379  0.202582   \n",
       "3  0.008793  0.042321  0.052710  ...  0.014231 -0.002887  0.015146  0.030238   \n",
       "4 -0.347715 -0.170228  0.401614  ... -0.067174 -0.081815 -0.024301  0.014489   \n",
       "\n",
       "         38        39        40       category  \\\n",
       "0 -0.049623 -0.028981 -0.044501   FOOD & DRINK   \n",
       "1 -0.005444  0.029891  0.026329  GROUPS VOICES   \n",
       "2 -0.319465 -0.000495  0.195415       POLITICS   \n",
       "3 -0.018971 -0.019030 -0.035314   FOOD & DRINK   \n",
       "4  0.031391  0.082833 -0.073245       WELLNESS   \n",
       "\n",
       "                                                text      sa  \n",
       "0  dessert recipe raisin lover hater steer clear ... -0.3182  \n",
       "1  trump different response orlando vega massacre... -0.3612  \n",
       "2  friday talking point double standard hypocrisy...  0.6597  \n",
       "3  postthanksgiving detox diet overindulging than...  0.1280  \n",
       "4  6 quote encourage march march stress strain co...  0.0772  \n",
       "\n",
       "[5 rows x 44 columns]"
      ]
     },
     "execution_count": 3,
     "metadata": {},
     "output_type": "execute_result"
    }
   ],
   "source": [
    "df = pd.read_csv('./data/df_10_category_balance_3k.csv')\n",
    "da = DataAnlysisPCA(df)\n",
    "max_len, length_list = da.get_max_word_length(plot=True)\n",
    "word_count_df, df_most_common, df_pca = da.get_most_common_words(plot=True)\n",
    "best_pca_component = da.best_pca_component\n",
    "max_len = da.MAX_LEN\n",
    "print('Best PCA Component: ', best_pca_component)\n",
    "print('Max Length of Text: ', max_len)\n",
    "df_pca.head()"
   ]
  },
  {
   "cell_type": "markdown",
   "metadata": {},
   "source": [
    "##### Feature Vectorization for all datasets"
   ]
  },
  {
   "cell_type": "code",
   "execution_count": 2,
   "metadata": {},
   "outputs": [
    {
     "name": "stderr",
     "output_type": "stream",
     "text": [
      "[nltk_data] Downloading package wordnet to /Users/yaoyao/nltk_data...\n",
      "[nltk_data]   Package wordnet is already up-to-date!\n",
      "[nltk_data] Downloading package punkt to /Users/yaoyao/nltk_data...\n",
      "[nltk_data]   Package punkt is already up-to-date!\n"
     ]
    }
   ],
   "source": [
    "import pandas as pd\n",
    "from EDA import DataAnlysisPCA\n",
    "import pandas as pd\n",
    "from sklearn.decomposition import PCA\n",
    "fpaths = [\n",
    "          './data/df_all_category_nobalance.csv',\n",
    "          './data/df_10_category_nobalance.csv',\n",
    "          './data/df_10_category_balance.csv',\n",
    "          './data/df_10_category_balance_60k.csv',\n",
    "          './data/df_10_category_balance_30k.csv',\n",
    "          './data/df_10_category_balance_10k.csv',\n",
    "          './data/df_10_category_balance_3k.csv']\n",
    "fpaths = fpaths[::-1]\n",
    "\n",
    "df_lists = [pd.read_csv(fpath) for fpath in fpaths]"
   ]
  },
  {
   "cell_type": "code",
   "execution_count": 6,
   "metadata": {},
   "outputs": [
    {
     "name": "stdout",
     "output_type": "stream",
     "text": [
      "PCA for 0th dataset ./data/df_all_category_nobalance.csv\n"
     ]
    },
    {
     "data": {
      "image/png": "[encoded data removed]",
      "text/plain": [
       "<Figure size 600x300 with 1 Axes>"
      ]
     },
     "metadata": {},
     "output_type": "display_data"
    },
    {
     "name": "stdout",
     "output_type": "stream",
     "text": [
      "99 Percentile of Text Lengths: 37.0\n"
     ]
    },
    {
     "name": "stderr",
     "output_type": "stream",
     "text": [
      "/Users/yaoyao/miniconda3/envs/tf/lib/python3.9/site-packages/sklearn/utils/deprecation.py:87: FutureWarning: Function get_feature_names is deprecated; get_feature_names is deprecated in 1.0 and will be removed in 1.2. Please use get_feature_names_out instead.\n",
      "  warnings.warn(msg, category=FutureWarning)\n"
     ]
    },
    {
     "ename": "",
     "evalue": "",
     "output_type": "error",
     "traceback": [
      "\u001b[1;31mThe Kernel crashed while executing code in the the current cell or a previous cell. Please review the code in the cell(s) to identify a possible cause of the failure. Click <a href='https://aka.ms/vscodeJupyterKernelCrash'>here</a> for more info. View Jupyter <a href='command:jupyter.viewOutput'>log</a> for further details."
     ]
    }
   ],
   "source": [
    "for i, df in enumerate(df_lists):\n",
    "    print(f'PCA for {i}th dataset {fpaths[i]}')\n",
    "    da = DataAnlysisPCA(df)\n",
    "    max_len, length_list = da.get_max_word_length(plot=True)\n",
    "    word_count_df, df_most_common, df_pca = da.get_most_common_words(plot=True)\n",
    "    best_pca_component = da.best_pca_component\n",
    "    MAX_LEN = da.MAX_LEN\n",
    "    print('Best PCA Component: ', best_pca_component)\n",
    "    print('Max Length of Text: ', MAX_LEN)\n",
    "    print(f'save df_pca to {fpaths[i][:-4]}_pca.csv')\n",
    "    df_pca.to_csv(fpaths[i][:-4]+'_pca.csv', index=False)\n",
    "    print('--------------------------------------')"
   ]
  },
  {
   "cell_type": "code",
   "execution_count": null,
   "metadata": {},
   "outputs": [],
   "source": []
  }
 ],
 "metadata": {
  "kernelspec": {
   "display_name": "tf",
   "language": "python",
   "name": "python3"
  },
  "language_info": {
   "codemirror_mode": {
    "name": "ipython",
    "version": 3
   },
   "file_extension": ".py",
   "mimetype": "text/x-python",
   "name": "python",
   "nbconvert_exporter": "python",
   "pygments_lexer": "ipython3",
   "version": "3.9.16"
  },
  "orig_nbformat": 4
 },
 "nbformat": 4,
 "nbformat_minor": 2
}
