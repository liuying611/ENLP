{
 "cells": [
  {
   "cell_type": "code",
   "execution_count": 109,
   "metadata": {
    "notebookRunGroups": {
     "groupValue": "2"
    }
   },
   "outputs": [],
   "source": [
    "from sklearn.feature_extraction.text import CountVectorizer, TfidfVectorizer\n",
    "import pandas as pd\n",
    "import numpy as np\n",
    "import matplotlib.pyplot as plt\n",
    "from nltk.corpus import stopwords\n",
    "from sklearn.feature_extraction.text import CountVectorizer, TfidfVectorizer\n",
    "from sklearn.model_selection import train_test_split\n",
    "import torch\n",
    "from torch.utils.data import Dataset, DataLoader, TensorDataset\n",
    "from torch.nn.utils.rnn import pad_sequence\n",
    "from transformers import BertTokenizer\n",
    "# import Adam optimizer\n",
    "from torch.optim import AdamW\n",
    "import torch.nn.functional as F\n",
    "from gensim.models import Word2Vec, KeyedVectors\n",
    "from torch import nn\n",
    "from sklearn.metrics import accuracy_score, precision_score, recall_score, f1_score, classification_report, confusion_matrix\n",
    "\n",
    "device = torch.device('cuda' if torch.cuda.is_available() else 'cpu')"
   ]
  },
  {
   "cell_type": "code",
   "execution_count": 110,
   "metadata": {
    "notebookRunGroups": {
     "groupValue": "12"
    }
   },
   "outputs": [],
   "source": [
    "TOP_N_WORDS = 50\n",
    "SIZE_DATA = '10k'\n",
    "VECTOR_SIZE = 50"
   ]
  },
  {
   "cell_type": "code",
   "execution_count": 111,
   "metadata": {
    "notebookRunGroups": {
     "groupValue": "12"
    }
   },
   "outputs": [
    {
     "ename": "FileNotFoundError",
     "evalue": "[Errno 2] No such file or directory: '../data/news_10_category_sa_10k.csv'",
     "output_type": "error",
     "traceback": [
      "\u001b[0;31m---------------------------------------------------------------------------\u001b[0m",
      "\u001b[0;31mFileNotFoundError\u001b[0m                         Traceback (most recent call last)",
      "\u001b[1;32m/Users/yaoyao/Desktop/CourseExercise/ENLP/old_training_file/LSTM_CNN_10k.ipynb Cell 3\u001b[0m line \u001b[0;36m1\n\u001b[0;32m----> <a href='vscode-notebook-cell:/Users/yaoyao/Desktop/CourseExercise/ENLP/old_training_file/LSTM_CNN_10k.ipynb#W2sZmlsZQ%3D%3D?line=0'>1</a>\u001b[0m df \u001b[39m=\u001b[39m pd\u001b[39m.\u001b[39;49mread_csv(\u001b[39mf\u001b[39;49m\u001b[39m'\u001b[39;49m\u001b[39m../data/news_10_category_sa_\u001b[39;49m\u001b[39m{\u001b[39;49;00mSIZE_DATA\u001b[39m}\u001b[39;49;00m\u001b[39m.csv\u001b[39;49m\u001b[39m'\u001b[39;49m)\n\u001b[1;32m      <a href='vscode-notebook-cell:/Users/yaoyao/Desktop/CourseExercise/ENLP/old_training_file/LSTM_CNN_10k.ipynb#W2sZmlsZQ%3D%3D?line=1'>2</a>\u001b[0m X \u001b[39m=\u001b[39m df[\u001b[39m'\u001b[39m\u001b[39mtext\u001b[39m\u001b[39m'\u001b[39m]\n\u001b[1;32m      <a href='vscode-notebook-cell:/Users/yaoyao/Desktop/CourseExercise/ENLP/old_training_file/LSTM_CNN_10k.ipynb#W2sZmlsZQ%3D%3D?line=2'>3</a>\u001b[0m y \u001b[39m=\u001b[39m df[\u001b[39m'\u001b[39m\u001b[39mcategory\u001b[39m\u001b[39m'\u001b[39m]\n",
      "File \u001b[0;32m~/miniconda3/envs/tf/lib/python3.9/site-packages/pandas/util/_decorators.py:211\u001b[0m, in \u001b[0;36mdeprecate_kwarg.<locals>._deprecate_kwarg.<locals>.wrapper\u001b[0;34m(*args, **kwargs)\u001b[0m\n\u001b[1;32m    209\u001b[0m     \u001b[39melse\u001b[39;00m:\n\u001b[1;32m    210\u001b[0m         kwargs[new_arg_name] \u001b[39m=\u001b[39m new_arg_value\n\u001b[0;32m--> 211\u001b[0m \u001b[39mreturn\u001b[39;00m func(\u001b[39m*\u001b[39;49margs, \u001b[39m*\u001b[39;49m\u001b[39m*\u001b[39;49mkwargs)\n",
      "File \u001b[0;32m~/miniconda3/envs/tf/lib/python3.9/site-packages/pandas/util/_decorators.py:331\u001b[0m, in \u001b[0;36mdeprecate_nonkeyword_arguments.<locals>.decorate.<locals>.wrapper\u001b[0;34m(*args, **kwargs)\u001b[0m\n\u001b[1;32m    325\u001b[0m \u001b[39mif\u001b[39;00m \u001b[39mlen\u001b[39m(args) \u001b[39m>\u001b[39m num_allow_args:\n\u001b[1;32m    326\u001b[0m     warnings\u001b[39m.\u001b[39mwarn(\n\u001b[1;32m    327\u001b[0m         msg\u001b[39m.\u001b[39mformat(arguments\u001b[39m=\u001b[39m_format_argument_list(allow_args)),\n\u001b[1;32m    328\u001b[0m         \u001b[39mFutureWarning\u001b[39;00m,\n\u001b[1;32m    329\u001b[0m         stacklevel\u001b[39m=\u001b[39mfind_stack_level(),\n\u001b[1;32m    330\u001b[0m     )\n\u001b[0;32m--> 331\u001b[0m \u001b[39mreturn\u001b[39;00m func(\u001b[39m*\u001b[39;49margs, \u001b[39m*\u001b[39;49m\u001b[39m*\u001b[39;49mkwargs)\n",
      "File \u001b[0;32m~/miniconda3/envs/tf/lib/python3.9/site-packages/pandas/io/parsers/readers.py:950\u001b[0m, in \u001b[0;36mread_csv\u001b[0;34m(filepath_or_buffer, sep, delimiter, header, names, index_col, usecols, squeeze, prefix, mangle_dupe_cols, dtype, engine, converters, true_values, false_values, skipinitialspace, skiprows, skipfooter, nrows, na_values, keep_default_na, na_filter, verbose, skip_blank_lines, parse_dates, infer_datetime_format, keep_date_col, date_parser, dayfirst, cache_dates, iterator, chunksize, compression, thousands, decimal, lineterminator, quotechar, quoting, doublequote, escapechar, comment, encoding, encoding_errors, dialect, error_bad_lines, warn_bad_lines, on_bad_lines, delim_whitespace, low_memory, memory_map, float_precision, storage_options)\u001b[0m\n\u001b[1;32m    935\u001b[0m kwds_defaults \u001b[39m=\u001b[39m _refine_defaults_read(\n\u001b[1;32m    936\u001b[0m     dialect,\n\u001b[1;32m    937\u001b[0m     delimiter,\n\u001b[0;32m   (...)\u001b[0m\n\u001b[1;32m    946\u001b[0m     defaults\u001b[39m=\u001b[39m{\u001b[39m\"\u001b[39m\u001b[39mdelimiter\u001b[39m\u001b[39m\"\u001b[39m: \u001b[39m\"\u001b[39m\u001b[39m,\u001b[39m\u001b[39m\"\u001b[39m},\n\u001b[1;32m    947\u001b[0m )\n\u001b[1;32m    948\u001b[0m kwds\u001b[39m.\u001b[39mupdate(kwds_defaults)\n\u001b[0;32m--> 950\u001b[0m \u001b[39mreturn\u001b[39;00m _read(filepath_or_buffer, kwds)\n",
      "File \u001b[0;32m~/miniconda3/envs/tf/lib/python3.9/site-packages/pandas/io/parsers/readers.py:605\u001b[0m, in \u001b[0;36m_read\u001b[0;34m(filepath_or_buffer, kwds)\u001b[0m\n\u001b[1;32m    602\u001b[0m _validate_names(kwds\u001b[39m.\u001b[39mget(\u001b[39m\"\u001b[39m\u001b[39mnames\u001b[39m\u001b[39m\"\u001b[39m, \u001b[39mNone\u001b[39;00m))\n\u001b[1;32m    604\u001b[0m \u001b[39m# Create the parser.\u001b[39;00m\n\u001b[0;32m--> 605\u001b[0m parser \u001b[39m=\u001b[39m TextFileReader(filepath_or_buffer, \u001b[39m*\u001b[39;49m\u001b[39m*\u001b[39;49mkwds)\n\u001b[1;32m    607\u001b[0m \u001b[39mif\u001b[39;00m chunksize \u001b[39mor\u001b[39;00m iterator:\n\u001b[1;32m    608\u001b[0m     \u001b[39mreturn\u001b[39;00m parser\n",
      "File \u001b[0;32m~/miniconda3/envs/tf/lib/python3.9/site-packages/pandas/io/parsers/readers.py:1442\u001b[0m, in \u001b[0;36mTextFileReader.__init__\u001b[0;34m(self, f, engine, **kwds)\u001b[0m\n\u001b[1;32m   1439\u001b[0m     \u001b[39mself\u001b[39m\u001b[39m.\u001b[39moptions[\u001b[39m\"\u001b[39m\u001b[39mhas_index_names\u001b[39m\u001b[39m\"\u001b[39m] \u001b[39m=\u001b[39m kwds[\u001b[39m\"\u001b[39m\u001b[39mhas_index_names\u001b[39m\u001b[39m\"\u001b[39m]\n\u001b[1;32m   1441\u001b[0m \u001b[39mself\u001b[39m\u001b[39m.\u001b[39mhandles: IOHandles \u001b[39m|\u001b[39m \u001b[39mNone\u001b[39;00m \u001b[39m=\u001b[39m \u001b[39mNone\u001b[39;00m\n\u001b[0;32m-> 1442\u001b[0m \u001b[39mself\u001b[39m\u001b[39m.\u001b[39m_engine \u001b[39m=\u001b[39m \u001b[39mself\u001b[39;49m\u001b[39m.\u001b[39;49m_make_engine(f, \u001b[39mself\u001b[39;49m\u001b[39m.\u001b[39;49mengine)\n",
      "File \u001b[0;32m~/miniconda3/envs/tf/lib/python3.9/site-packages/pandas/io/parsers/readers.py:1735\u001b[0m, in \u001b[0;36mTextFileReader._make_engine\u001b[0;34m(self, f, engine)\u001b[0m\n\u001b[1;32m   1733\u001b[0m     \u001b[39mif\u001b[39;00m \u001b[39m\"\u001b[39m\u001b[39mb\u001b[39m\u001b[39m\"\u001b[39m \u001b[39mnot\u001b[39;00m \u001b[39min\u001b[39;00m mode:\n\u001b[1;32m   1734\u001b[0m         mode \u001b[39m+\u001b[39m\u001b[39m=\u001b[39m \u001b[39m\"\u001b[39m\u001b[39mb\u001b[39m\u001b[39m\"\u001b[39m\n\u001b[0;32m-> 1735\u001b[0m \u001b[39mself\u001b[39m\u001b[39m.\u001b[39mhandles \u001b[39m=\u001b[39m get_handle(\n\u001b[1;32m   1736\u001b[0m     f,\n\u001b[1;32m   1737\u001b[0m     mode,\n\u001b[1;32m   1738\u001b[0m     encoding\u001b[39m=\u001b[39;49m\u001b[39mself\u001b[39;49m\u001b[39m.\u001b[39;49moptions\u001b[39m.\u001b[39;49mget(\u001b[39m\"\u001b[39;49m\u001b[39mencoding\u001b[39;49m\u001b[39m\"\u001b[39;49m, \u001b[39mNone\u001b[39;49;00m),\n\u001b[1;32m   1739\u001b[0m     compression\u001b[39m=\u001b[39;49m\u001b[39mself\u001b[39;49m\u001b[39m.\u001b[39;49moptions\u001b[39m.\u001b[39;49mget(\u001b[39m\"\u001b[39;49m\u001b[39mcompression\u001b[39;49m\u001b[39m\"\u001b[39;49m, \u001b[39mNone\u001b[39;49;00m),\n\u001b[1;32m   1740\u001b[0m     memory_map\u001b[39m=\u001b[39;49m\u001b[39mself\u001b[39;49m\u001b[39m.\u001b[39;49moptions\u001b[39m.\u001b[39;49mget(\u001b[39m\"\u001b[39;49m\u001b[39mmemory_map\u001b[39;49m\u001b[39m\"\u001b[39;49m, \u001b[39mFalse\u001b[39;49;00m),\n\u001b[1;32m   1741\u001b[0m     is_text\u001b[39m=\u001b[39;49mis_text,\n\u001b[1;32m   1742\u001b[0m     errors\u001b[39m=\u001b[39;49m\u001b[39mself\u001b[39;49m\u001b[39m.\u001b[39;49moptions\u001b[39m.\u001b[39;49mget(\u001b[39m\"\u001b[39;49m\u001b[39mencoding_errors\u001b[39;49m\u001b[39m\"\u001b[39;49m, \u001b[39m\"\u001b[39;49m\u001b[39mstrict\u001b[39;49m\u001b[39m\"\u001b[39;49m),\n\u001b[1;32m   1743\u001b[0m     storage_options\u001b[39m=\u001b[39;49m\u001b[39mself\u001b[39;49m\u001b[39m.\u001b[39;49moptions\u001b[39m.\u001b[39;49mget(\u001b[39m\"\u001b[39;49m\u001b[39mstorage_options\u001b[39;49m\u001b[39m\"\u001b[39;49m, \u001b[39mNone\u001b[39;49;00m),\n\u001b[1;32m   1744\u001b[0m )\n\u001b[1;32m   1745\u001b[0m \u001b[39massert\u001b[39;00m \u001b[39mself\u001b[39m\u001b[39m.\u001b[39mhandles \u001b[39mis\u001b[39;00m \u001b[39mnot\u001b[39;00m \u001b[39mNone\u001b[39;00m\n\u001b[1;32m   1746\u001b[0m f \u001b[39m=\u001b[39m \u001b[39mself\u001b[39m\u001b[39m.\u001b[39mhandles\u001b[39m.\u001b[39mhandle\n",
      "File \u001b[0;32m~/miniconda3/envs/tf/lib/python3.9/site-packages/pandas/io/common.py:856\u001b[0m, in \u001b[0;36mget_handle\u001b[0;34m(path_or_buf, mode, encoding, compression, memory_map, is_text, errors, storage_options)\u001b[0m\n\u001b[1;32m    851\u001b[0m \u001b[39melif\u001b[39;00m \u001b[39misinstance\u001b[39m(handle, \u001b[39mstr\u001b[39m):\n\u001b[1;32m    852\u001b[0m     \u001b[39m# Check whether the filename is to be opened in binary mode.\u001b[39;00m\n\u001b[1;32m    853\u001b[0m     \u001b[39m# Binary mode does not support 'encoding' and 'newline'.\u001b[39;00m\n\u001b[1;32m    854\u001b[0m     \u001b[39mif\u001b[39;00m ioargs\u001b[39m.\u001b[39mencoding \u001b[39mand\u001b[39;00m \u001b[39m\"\u001b[39m\u001b[39mb\u001b[39m\u001b[39m\"\u001b[39m \u001b[39mnot\u001b[39;00m \u001b[39min\u001b[39;00m ioargs\u001b[39m.\u001b[39mmode:\n\u001b[1;32m    855\u001b[0m         \u001b[39m# Encoding\u001b[39;00m\n\u001b[0;32m--> 856\u001b[0m         handle \u001b[39m=\u001b[39m \u001b[39mopen\u001b[39;49m(\n\u001b[1;32m    857\u001b[0m             handle,\n\u001b[1;32m    858\u001b[0m             ioargs\u001b[39m.\u001b[39;49mmode,\n\u001b[1;32m    859\u001b[0m             encoding\u001b[39m=\u001b[39;49mioargs\u001b[39m.\u001b[39;49mencoding,\n\u001b[1;32m    860\u001b[0m             errors\u001b[39m=\u001b[39;49merrors,\n\u001b[1;32m    861\u001b[0m             newline\u001b[39m=\u001b[39;49m\u001b[39m\"\u001b[39;49m\u001b[39m\"\u001b[39;49m,\n\u001b[1;32m    862\u001b[0m         )\n\u001b[1;32m    863\u001b[0m     \u001b[39melse\u001b[39;00m:\n\u001b[1;32m    864\u001b[0m         \u001b[39m# Binary mode\u001b[39;00m\n\u001b[1;32m    865\u001b[0m         handle \u001b[39m=\u001b[39m \u001b[39mopen\u001b[39m(handle, ioargs\u001b[39m.\u001b[39mmode)\n",
      "\u001b[0;31mFileNotFoundError\u001b[0m: [Errno 2] No such file or directory: '../data/news_10_category_sa_10k.csv'"
     ]
    }
   ],
   "source": [
    "df = pd.read_csv(f'../data/df_10_category_balance_{SIZE_DATA}.csv')\n",
    "X = df['text']\n",
    "y = df['category']"
   ]
  },
  {
   "cell_type": "markdown",
   "metadata": {},
   "source": [
    "### Get the Most Common Words"
   ]
  },
  {
   "cell_type": "code",
   "execution_count": 6,
   "metadata": {
    "notebookRunGroups": {
     "groupValue": "12"
    }
   },
   "outputs": [
    {
     "data": {
      "text/plain": [
       "new            1035\n",
       "photo           923\n",
       "one             892\n",
       "trump           865\n",
       "year            784\n",
       "               ... \n",
       "pov               1\n",
       "lgbtqgender       1\n",
       "entail            1\n",
       "priestess         1\n",
       "shuttered         1\n",
       "Length: 24172, dtype: int64"
      ]
     },
     "execution_count": 6,
     "metadata": {},
     "output_type": "execute_result"
    }
   ],
   "source": [
    "all_words = [w for text in X for w in text.split()]\n",
    "all_words_freq = pd.Series(all_words).value_counts()\n",
    "all_words_freq"
   ]
  },
  {
   "cell_type": "code",
   "execution_count": 7,
   "metadata": {
    "notebookRunGroups": {
     "groupValue": "1"
    }
   },
   "outputs": [
    {
     "name": "stdout",
     "output_type": "stream",
     "text": [
      "the 9259 words accompany that make up 90% of the corpus, the freq is 2\n"
     ]
    }
   ],
   "source": [
    "percentage_list = []\n",
    "count = 0\n",
    "total = len(all_words)\n",
    "for i in range(1, total):\n",
    "    count += all_words_freq[i]\n",
    "    percentage_list.append(count/total)\n",
    "    if percentage_list[-1] > 0.9:\n",
    "        print(f'the {i} words {all_words_freq.index[i]} that make up 90% of the corpus, the freq is {all_words_freq[i]}')\n",
    "        break"
   ]
  },
  {
   "cell_type": "code",
   "execution_count": 8,
   "metadata": {
    "notebookRunGroups": {
     "groupValue": "1"
    }
   },
   "outputs": [
    {
     "data": {
      "image/png": "[encoded data removed]",
      "text/plain": [
       "<Figure size 1000x500 with 1 Axes>"
      ]
     },
     "metadata": {},
     "output_type": "display_data"
    }
   ],
   "source": [
    "plt.figure(figsize=(10, 5))\n",
    "plt.bar(all_words_freq.index[:70], all_words_freq.values[:70])\n",
    "plt.xlabel('word')\n",
    "plt.ylabel('Frequency')\n",
    "plt.title('Frequency of Top 70 Words')\n",
    "plt.xticks(rotation=90)\n",
    "plt.grid(True)\n",
    "plt.show()"
   ]
  },
  {
   "cell_type": "code",
   "execution_count": 63,
   "metadata": {},
   "outputs": [
    {
     "data": {
      "text/plain": [
       "<Axes: >"
      ]
     },
     "execution_count": 63,
     "metadata": {},
     "output_type": "execute_result"
    },
    {
     "data": {
      "image/png": "[encoded data removed]",
      "text/plain": [
       "<Figure size 1000x500 with 1 Axes>"
      ]
     },
     "metadata": {},
     "output_type": "display_data"
    }
   ],
   "source": [
    "new_all_words_freq = all_words_freq.sort_values(ascending=False, inplace=False)\n",
    "new_all_words_freq[new_all_words_freq>30].hist(bins=100, figsize=(10, 5))"
   ]
  },
  {
   "cell_type": "code",
   "execution_count": 77,
   "metadata": {},
   "outputs": [],
   "source": [
    "left_number = int(len(new_all_words_freq)*0.005)\n",
    "right_number = left_number + TOP_N_WORDS"
   ]
  },
  {
   "cell_type": "code",
   "execution_count": 78,
   "metadata": {},
   "outputs": [
    {
     "data": {
      "image/png": "[encoded data removed]",
      "text/plain": [
       "<Figure size 1000x500 with 1 Axes>"
      ]
     },
     "metadata": {},
     "output_type": "display_data"
    }
   ],
   "source": [
    "plt.figure(figsize=(10, 5))\n",
    "plt.bar(new_all_words_freq.index[left_number:right_number], new_all_words_freq.values[left_number:right_number])\n",
    "plt.xlabel('word')\n",
    "plt.ylabel('Frequency')\n",
    "#plt.title('50 Words with a moderate frequency')\n",
    "plt.xticks(rotation=90)\n",
    "plt.grid(True)\n",
    "plt.show()"
   ]
  },
  {
   "cell_type": "code",
   "execution_count": 79,
   "metadata": {
    "notebookRunGroups": {
     "groupValue": "1"
    }
   },
   "outputs": [
    {
     "name": "stdout",
     "output_type": "stream",
     "text": [
      "Number of words appeared more than 30 times: 1283\n",
      "total number of words: 24172\n"
     ]
    }
   ],
   "source": [
    "num = 30\n",
    "print(f'Number of words appeared more than {num} times: {len(all_words_freq[all_words_freq >= num])}')\n",
    "print(f\"total number of words: {len(all_words_freq)}\")"
   ]
  },
  {
   "cell_type": "code",
   "execution_count": 80,
   "metadata": {
    "notebookRunGroups": {
     "groupValue": "1"
    }
   },
   "outputs": [
    {
     "data": {
      "text/plain": [
       "0    jfk moonshot cancer biden plan attention feder...\n",
       "1    32 parlor vietnam fire thuan began tuesday wor...\n",
       "2    flooding death 1000 catastrophe authority casu...\n",
       "3    woman considered child tokyo court woman paren...\n",
       "4    martin murder could role comedian latest show ...\n",
       "Name: text, dtype: object"
      ]
     },
     "execution_count": 80,
     "metadata": {},
     "output_type": "execute_result"
    }
   ],
   "source": [
    "num_to_keep = TOP_N_WORDS\n",
    "top_words_to_keep = new_all_words_freq[left_number:right_number].index\n",
    "def keep_word_in_list(text, top_words_to_keep):\n",
    "    text = text.split()\n",
    "    for t in text:\n",
    "        if t in top_words_to_keep:\n",
    "            continue\n",
    "        else:\n",
    "            text.remove(t)\n",
    "    return ' '.join(text)\n",
    "X_top_50 = X.apply(lambda x: keep_word_in_list(x, top_words_to_keep))\n",
    "X_top_50.head()"
   ]
  },
  {
   "cell_type": "code",
   "execution_count": 81,
   "metadata": {
    "notebookRunGroups": {
     "groupValue": ""
    }
   },
   "outputs": [],
   "source": [
    "def delete_word_in_list(text, word_to_delete_list):\n",
    "    text = text.split()\n",
    "    for t in text:\n",
    "        if t in word_to_delete_list:\n",
    "            text.remove(t)\n",
    "    return ' '.join(text)\n",
    "word_to_delete_list = all_words_freq[all_words_freq < num].index\n",
    "#X_50 = X.apply(lambda x: delete_word_in_list(x, word_to_delete_list))\n",
    "#X_50.head()"
   ]
  },
  {
   "cell_type": "code",
   "execution_count": 82,
   "metadata": {
    "notebookRunGroups": {
     "groupValue": "1"
    }
   },
   "outputs": [],
   "source": [
    "for i, text in enumerate(X_top_50):\n",
    "    if len(text.split()) == 0:\n",
    "        print(X_top_50.index[i])"
   ]
  },
  {
   "cell_type": "code",
   "execution_count": 83,
   "metadata": {
    "notebookRunGroups": {
     "groupValue": "1"
    }
   },
   "outputs": [
    {
     "data": {
      "text/plain": [
       "Index(['season', 'got', 'york', 'men', 'twitter', 'man', 'face', 'republican',\n",
       "       'question', 'thats', 'making', 'news', 'party', 'job', 'keep',\n",
       "       'million', 'attack', 'another', 'tell', 'friend', 'student', 'tip',\n",
       "       'mother', 'call', 'long', 'getting', 'found', 'lot', 'real', 'hotel',\n",
       "       'report', 'experience', 'death', 'doe', 'son', 'isnt', 'three', 'since',\n",
       "       'start', 'daughter', 'reason', 'might', 'holiday', 'list', 'plan',\n",
       "       'healthy', 'word', 'business', 'gop', 'national'],\n",
       "      dtype='object')"
      ]
     },
     "execution_count": 83,
     "metadata": {},
     "output_type": "execute_result"
    }
   ],
   "source": [
    "top_words_to_keep"
   ]
  },
  {
   "cell_type": "code",
   "execution_count": 84,
   "metadata": {
    "notebookRunGroups": {
     "groupValue": "1"
    }
   },
   "outputs": [
    {
     "data": {
      "text/html": [
       "<div>\n",
       "<style scoped>\n",
       "    .dataframe tbody tr th:only-of-type {\n",
       "        vertical-align: middle;\n",
       "    }\n",
       "\n",
       "    .dataframe tbody tr th {\n",
       "        vertical-align: top;\n",
       "    }\n",
       "\n",
       "    .dataframe thead th {\n",
       "        text-align: right;\n",
       "    }\n",
       "</style>\n",
       "<table border=\"1\" class=\"dataframe\">\n",
       "  <thead>\n",
       "    <tr style=\"text-align: right;\">\n",
       "      <th></th>\n",
       "      <th>season</th>\n",
       "      <th>got</th>\n",
       "      <th>york</th>\n",
       "      <th>men</th>\n",
       "      <th>twitter</th>\n",
       "      <th>man</th>\n",
       "      <th>face</th>\n",
       "      <th>republican</th>\n",
       "      <th>question</th>\n",
       "      <th>thats</th>\n",
       "      <th>...</th>\n",
       "      <th>reason</th>\n",
       "      <th>might</th>\n",
       "      <th>holiday</th>\n",
       "      <th>list</th>\n",
       "      <th>plan</th>\n",
       "      <th>healthy</th>\n",
       "      <th>word</th>\n",
       "      <th>business</th>\n",
       "      <th>gop</th>\n",
       "      <th>national</th>\n",
       "    </tr>\n",
       "  </thead>\n",
       "  <tbody>\n",
       "    <tr>\n",
       "      <th>0</th>\n",
       "      <td>0</td>\n",
       "      <td>0</td>\n",
       "      <td>0</td>\n",
       "      <td>0</td>\n",
       "      <td>0</td>\n",
       "      <td>0</td>\n",
       "      <td>0</td>\n",
       "      <td>0</td>\n",
       "      <td>0</td>\n",
       "      <td>0</td>\n",
       "      <td>...</td>\n",
       "      <td>0</td>\n",
       "      <td>0</td>\n",
       "      <td>0</td>\n",
       "      <td>0</td>\n",
       "      <td>1</td>\n",
       "      <td>0</td>\n",
       "      <td>0</td>\n",
       "      <td>0</td>\n",
       "      <td>0</td>\n",
       "      <td>0</td>\n",
       "    </tr>\n",
       "    <tr>\n",
       "      <th>1</th>\n",
       "      <td>0</td>\n",
       "      <td>0</td>\n",
       "      <td>0</td>\n",
       "      <td>0</td>\n",
       "      <td>0</td>\n",
       "      <td>0</td>\n",
       "      <td>0</td>\n",
       "      <td>0</td>\n",
       "      <td>0</td>\n",
       "      <td>0</td>\n",
       "      <td>...</td>\n",
       "      <td>0</td>\n",
       "      <td>0</td>\n",
       "      <td>0</td>\n",
       "      <td>0</td>\n",
       "      <td>0</td>\n",
       "      <td>0</td>\n",
       "      <td>0</td>\n",
       "      <td>0</td>\n",
       "      <td>0</td>\n",
       "      <td>0</td>\n",
       "    </tr>\n",
       "    <tr>\n",
       "      <th>2</th>\n",
       "      <td>1</td>\n",
       "      <td>0</td>\n",
       "      <td>0</td>\n",
       "      <td>0</td>\n",
       "      <td>0</td>\n",
       "      <td>0</td>\n",
       "      <td>0</td>\n",
       "      <td>0</td>\n",
       "      <td>0</td>\n",
       "      <td>0</td>\n",
       "      <td>...</td>\n",
       "      <td>0</td>\n",
       "      <td>0</td>\n",
       "      <td>0</td>\n",
       "      <td>0</td>\n",
       "      <td>0</td>\n",
       "      <td>0</td>\n",
       "      <td>0</td>\n",
       "      <td>0</td>\n",
       "      <td>0</td>\n",
       "      <td>0</td>\n",
       "    </tr>\n",
       "    <tr>\n",
       "      <th>3</th>\n",
       "      <td>0</td>\n",
       "      <td>0</td>\n",
       "      <td>0</td>\n",
       "      <td>0</td>\n",
       "      <td>0</td>\n",
       "      <td>0</td>\n",
       "      <td>0</td>\n",
       "      <td>0</td>\n",
       "      <td>0</td>\n",
       "      <td>0</td>\n",
       "      <td>...</td>\n",
       "      <td>0</td>\n",
       "      <td>0</td>\n",
       "      <td>0</td>\n",
       "      <td>0</td>\n",
       "      <td>0</td>\n",
       "      <td>0</td>\n",
       "      <td>0</td>\n",
       "      <td>0</td>\n",
       "      <td>0</td>\n",
       "      <td>0</td>\n",
       "    </tr>\n",
       "    <tr>\n",
       "      <th>4</th>\n",
       "      <td>0</td>\n",
       "      <td>0</td>\n",
       "      <td>0</td>\n",
       "      <td>0</td>\n",
       "      <td>0</td>\n",
       "      <td>0</td>\n",
       "      <td>0</td>\n",
       "      <td>0</td>\n",
       "      <td>0</td>\n",
       "      <td>0</td>\n",
       "      <td>...</td>\n",
       "      <td>0</td>\n",
       "      <td>0</td>\n",
       "      <td>0</td>\n",
       "      <td>0</td>\n",
       "      <td>0</td>\n",
       "      <td>0</td>\n",
       "      <td>0</td>\n",
       "      <td>0</td>\n",
       "      <td>0</td>\n",
       "      <td>0</td>\n",
       "    </tr>\n",
       "  </tbody>\n",
       "</table>\n",
       "<p>5 rows × 50 columns</p>\n",
       "</div>"
      ],
      "text/plain": [
       "   season  got  york  men  twitter  man  face  republican  question  thats  \\\n",
       "0       0    0     0    0        0    0     0           0         0      0   \n",
       "1       0    0     0    0        0    0     0           0         0      0   \n",
       "2       1    0     0    0        0    0     0           0         0      0   \n",
       "3       0    0     0    0        0    0     0           0         0      0   \n",
       "4       0    0     0    0        0    0     0           0         0      0   \n",
       "\n",
       "   ...  reason  might  holiday  list  plan  healthy  word  business  gop  \\\n",
       "0  ...       0      0        0     0     1        0     0         0    0   \n",
       "1  ...       0      0        0     0     0        0     0         0    0   \n",
       "2  ...       0      0        0     0     0        0     0         0    0   \n",
       "3  ...       0      0        0     0     0        0     0         0    0   \n",
       "4  ...       0      0        0     0     0        0     0         0    0   \n",
       "\n",
       "   national  \n",
       "0         0  \n",
       "1         0  \n",
       "2         0  \n",
       "3         0  \n",
       "4         0  \n",
       "\n",
       "[5 rows x 50 columns]"
      ]
     },
     "execution_count": 84,
     "metadata": {},
     "output_type": "execute_result"
    }
   ],
   "source": [
    "df_most_common = pd.DataFrame()\n",
    "for word in top_words_to_keep:\n",
    "    word_count = []\n",
    "    for row in X_top_50:\n",
    "        if word in row.split():\n",
    "            word_count.append(1)\n",
    "        else:\n",
    "            word_count.append(0)\n",
    "    df_most_common[word] = word_count\n",
    "df_most_common.head()"
   ]
  },
  {
   "cell_type": "code",
   "execution_count": 85,
   "metadata": {
    "notebookRunGroups": {
     "groupValue": "1"
    }
   },
   "outputs": [
    {
     "data": {
      "image/png": "[encoded data removed]",
      "text/plain": [
       "<Figure size 640x480 with 1 Axes>"
      ]
     },
     "metadata": {},
     "output_type": "display_data"
    }
   ],
   "source": [
    "# reduce the dimension with PCA\n",
    "# import TSNE\n",
    "from sklearn.decomposition import PCA\n",
    "pca = PCA().fit(df_most_common)\n",
    "plt.plot(np.cumsum(pca.explained_variance_ratio_))\n",
    "plt.axhline(y=.90, color = 'r', linestyle = '--') \n",
    "plt.xlabel('number of components')\n",
    "plt.ylabel('cumulative explained variance')\n",
    "plt.show()"
   ]
  },
  {
   "cell_type": "code",
   "execution_count": 86,
   "metadata": {
    "notebookRunGroups": {
     "groupValue": "1"
    }
   },
   "outputs": [
    {
     "name": "stdout",
     "output_type": "stream",
     "text": [
      "\n",
      " total most common words: 50\n",
      "Best Component that keep 90% info: 43\n",
      "\n",
      " total most common words after reduction: 43\n"
     ]
    }
   ],
   "source": [
    "cumsum = pd.DataFrame(np.cumsum(pca.explained_variance_ratio_))\n",
    "best_component = cumsum[(cumsum >= .90) & (cumsum  < .95)].dropna().index[0] \n",
    "print(f'\\n total most common words: {len(df_most_common.columns)}')\n",
    "\n",
    "print('Best Component that keep 90% info:', best_component)\n",
    "print(f'\\n total most common words after reduction: {best_component}')"
   ]
  },
  {
   "cell_type": "markdown",
   "metadata": {},
   "source": [
    "### use best component"
   ]
  },
  {
   "cell_type": "code",
   "execution_count": 87,
   "metadata": {
    "notebookRunGroups": {
     "groupValue": "1"
    }
   },
   "outputs": [
    {
     "data": {
      "text/html": [
       "<div>\n",
       "<style scoped>\n",
       "    .dataframe tbody tr th:only-of-type {\n",
       "        vertical-align: middle;\n",
       "    }\n",
       "\n",
       "    .dataframe tbody tr th {\n",
       "        vertical-align: top;\n",
       "    }\n",
       "\n",
       "    .dataframe thead th {\n",
       "        text-align: right;\n",
       "    }\n",
       "</style>\n",
       "<table border=\"1\" class=\"dataframe\">\n",
       "  <thead>\n",
       "    <tr style=\"text-align: right;\">\n",
       "      <th></th>\n",
       "      <th>text</th>\n",
       "      <th>0</th>\n",
       "      <th>1</th>\n",
       "      <th>2</th>\n",
       "      <th>3</th>\n",
       "      <th>4</th>\n",
       "      <th>5</th>\n",
       "      <th>6</th>\n",
       "      <th>7</th>\n",
       "      <th>8</th>\n",
       "      <th>...</th>\n",
       "      <th>34</th>\n",
       "      <th>35</th>\n",
       "      <th>36</th>\n",
       "      <th>37</th>\n",
       "      <th>38</th>\n",
       "      <th>39</th>\n",
       "      <th>40</th>\n",
       "      <th>41</th>\n",
       "      <th>42</th>\n",
       "      <th>category</th>\n",
       "    </tr>\n",
       "  </thead>\n",
       "  <tbody>\n",
       "    <tr>\n",
       "      <th>0</th>\n",
       "      <td>nod jfk joe biden pushing moonshot fight cance...</td>\n",
       "      <td>0.181964</td>\n",
       "      <td>0.005847</td>\n",
       "      <td>-0.031300</td>\n",
       "      <td>0.027517</td>\n",
       "      <td>-0.000912</td>\n",
       "      <td>-0.054133</td>\n",
       "      <td>-0.070516</td>\n",
       "      <td>-0.059701</td>\n",
       "      <td>-0.014587</td>\n",
       "      <td>...</td>\n",
       "      <td>-0.191177</td>\n",
       "      <td>-0.161480</td>\n",
       "      <td>0.201483</td>\n",
       "      <td>-0.188140</td>\n",
       "      <td>0.211666</td>\n",
       "      <td>0.029048</td>\n",
       "      <td>-0.104281</td>\n",
       "      <td>-0.014463</td>\n",
       "      <td>-0.090405</td>\n",
       "      <td>POLITICS</td>\n",
       "    </tr>\n",
       "    <tr>\n",
       "      <th>1</th>\n",
       "      <td>least 32 dead fire karaoke parlor south vietna...</td>\n",
       "      <td>0.000876</td>\n",
       "      <td>-0.040286</td>\n",
       "      <td>0.024193</td>\n",
       "      <td>-0.015280</td>\n",
       "      <td>-0.014309</td>\n",
       "      <td>-0.012772</td>\n",
       "      <td>0.002247</td>\n",
       "      <td>-0.017414</td>\n",
       "      <td>-0.004722</td>\n",
       "      <td>...</td>\n",
       "      <td>-0.004620</td>\n",
       "      <td>-0.013770</td>\n",
       "      <td>0.009538</td>\n",
       "      <td>-0.006073</td>\n",
       "      <td>-0.008909</td>\n",
       "      <td>-0.007455</td>\n",
       "      <td>-0.005408</td>\n",
       "      <td>-0.012062</td>\n",
       "      <td>-0.010076</td>\n",
       "      <td>WORLD NEWS</td>\n",
       "    </tr>\n",
       "    <tr>\n",
       "      <th>2</th>\n",
       "      <td>pakistan flooding death pas 1000 climate catas...</td>\n",
       "      <td>-0.110453</td>\n",
       "      <td>0.494660</td>\n",
       "      <td>0.629862</td>\n",
       "      <td>-0.148124</td>\n",
       "      <td>-0.114140</td>\n",
       "      <td>0.084374</td>\n",
       "      <td>-0.070677</td>\n",
       "      <td>0.120604</td>\n",
       "      <td>0.204927</td>\n",
       "      <td>...</td>\n",
       "      <td>0.166350</td>\n",
       "      <td>-0.097860</td>\n",
       "      <td>0.262826</td>\n",
       "      <td>-0.406615</td>\n",
       "      <td>0.268329</td>\n",
       "      <td>0.491695</td>\n",
       "      <td>0.023554</td>\n",
       "      <td>0.021018</td>\n",
       "      <td>0.196318</td>\n",
       "      <td>WORLD NEWS</td>\n",
       "    </tr>\n",
       "    <tr>\n",
       "      <th>3</th>\n",
       "      <td>trans woman cant considered parent child rule ...</td>\n",
       "      <td>-0.081807</td>\n",
       "      <td>-0.029518</td>\n",
       "      <td>-0.068364</td>\n",
       "      <td>0.021771</td>\n",
       "      <td>-0.003599</td>\n",
       "      <td>-0.017237</td>\n",
       "      <td>-0.062075</td>\n",
       "      <td>0.092243</td>\n",
       "      <td>-0.121769</td>\n",
       "      <td>...</td>\n",
       "      <td>-0.004861</td>\n",
       "      <td>0.022739</td>\n",
       "      <td>-0.080468</td>\n",
       "      <td>-0.050512</td>\n",
       "      <td>-0.017676</td>\n",
       "      <td>-0.314466</td>\n",
       "      <td>-0.008130</td>\n",
       "      <td>-0.419494</td>\n",
       "      <td>0.337159</td>\n",
       "      <td>WORLD NEWS</td>\n",
       "    </tr>\n",
       "    <tr>\n",
       "      <th>4</th>\n",
       "      <td>steve martin say murder building could final r...</td>\n",
       "      <td>0.000876</td>\n",
       "      <td>-0.040286</td>\n",
       "      <td>0.024193</td>\n",
       "      <td>-0.015280</td>\n",
       "      <td>-0.014309</td>\n",
       "      <td>-0.012772</td>\n",
       "      <td>0.002247</td>\n",
       "      <td>-0.017414</td>\n",
       "      <td>-0.004722</td>\n",
       "      <td>...</td>\n",
       "      <td>-0.004620</td>\n",
       "      <td>-0.013770</td>\n",
       "      <td>0.009538</td>\n",
       "      <td>-0.006073</td>\n",
       "      <td>-0.008909</td>\n",
       "      <td>-0.007455</td>\n",
       "      <td>-0.005408</td>\n",
       "      <td>-0.012062</td>\n",
       "      <td>-0.010076</td>\n",
       "      <td>ENTERTAINMENT</td>\n",
       "    </tr>\n",
       "  </tbody>\n",
       "</table>\n",
       "<p>5 rows × 45 columns</p>\n",
       "</div>"
      ],
      "text/plain": [
       "                                                text         0         1  \\\n",
       "0  nod jfk joe biden pushing moonshot fight cance...  0.181964  0.005847   \n",
       "1  least 32 dead fire karaoke parlor south vietna...  0.000876 -0.040286   \n",
       "2  pakistan flooding death pas 1000 climate catas... -0.110453  0.494660   \n",
       "3  trans woman cant considered parent child rule ... -0.081807 -0.029518   \n",
       "4  steve martin say murder building could final r...  0.000876 -0.040286   \n",
       "\n",
       "          2         3         4         5         6         7         8  ...  \\\n",
       "0 -0.031300  0.027517 -0.000912 -0.054133 -0.070516 -0.059701 -0.014587  ...   \n",
       "1  0.024193 -0.015280 -0.014309 -0.012772  0.002247 -0.017414 -0.004722  ...   \n",
       "2  0.629862 -0.148124 -0.114140  0.084374 -0.070677  0.120604  0.204927  ...   \n",
       "3 -0.068364  0.021771 -0.003599 -0.017237 -0.062075  0.092243 -0.121769  ...   \n",
       "4  0.024193 -0.015280 -0.014309 -0.012772  0.002247 -0.017414 -0.004722  ...   \n",
       "\n",
       "         34        35        36        37        38        39        40  \\\n",
       "0 -0.191177 -0.161480  0.201483 -0.188140  0.211666  0.029048 -0.104281   \n",
       "1 -0.004620 -0.013770  0.009538 -0.006073 -0.008909 -0.007455 -0.005408   \n",
       "2  0.166350 -0.097860  0.262826 -0.406615  0.268329  0.491695  0.023554   \n",
       "3 -0.004861  0.022739 -0.080468 -0.050512 -0.017676 -0.314466 -0.008130   \n",
       "4 -0.004620 -0.013770  0.009538 -0.006073 -0.008909 -0.007455 -0.005408   \n",
       "\n",
       "         41        42       category  \n",
       "0 -0.014463 -0.090405       POLITICS  \n",
       "1 -0.012062 -0.010076     WORLD NEWS  \n",
       "2  0.021018  0.196318     WORLD NEWS  \n",
       "3 -0.419494  0.337159     WORLD NEWS  \n",
       "4 -0.012062 -0.010076  ENTERTAINMENT  \n",
       "\n",
       "[5 rows x 45 columns]"
      ]
     },
     "execution_count": 87,
     "metadata": {},
     "output_type": "execute_result"
    }
   ],
   "source": [
    "pca = PCA(n_components=best_component).fit(df_most_common)\n",
    "features = pd.DataFrame(pca.transform(df_most_common))\n",
    "new_X = pd.concat([X, features, y], axis=1)\n",
    "new_X.head()"
   ]
  },
  {
   "cell_type": "code",
   "execution_count": 17,
   "metadata": {
    "notebookRunGroups": {
     "groupValue": "1"
    }
   },
   "outputs": [],
   "source": [
    "#new_X.to_csv(f'news_10_category_sa_{SIZE_DATA}_PCA_data.csv', index=False)"
   ]
  },
  {
   "cell_type": "code",
   "execution_count": 88,
   "metadata": {
    "notebookRunGroups": {
     "groupValue": "12"
    }
   },
   "outputs": [
    {
     "name": "stdout",
     "output_type": "stream",
     "text": [
      "Train set length: 8000 ; categories: 10\n",
      "Val set length: 1000 ; categories: 10\n",
      "Test set length: 1000 ; categories: 10\n"
     ]
    }
   ],
   "source": [
    "train, test = train_test_split(new_X, test_size=0.2, random_state=42)\n",
    "val, test = train_test_split(test, test_size=0.5, random_state=42)\n",
    "print(f'Train set length: {len(train)} ; categories: {train[\"category\"].nunique()}')\n",
    "print(f'Val set length: {len(val)} ; categories: {val[\"category\"].nunique()}')\n",
    "print(f'Test set length: {len(test)} ; categories: {test[\"category\"].nunique()}')"
   ]
  },
  {
   "cell_type": "code",
   "execution_count": 89,
   "metadata": {
    "notebookRunGroups": {
     "groupValue": "12"
    }
   },
   "outputs": [
    {
     "name": "stdout",
     "output_type": "stream",
     "text": [
      "Total vocabs  24174\n"
     ]
    }
   ],
   "source": [
    "def prepare_text_dict(all_words_freq):\n",
    "    # the frequencies of words in text\n",
    "    freq = all_words_freq\n",
    "    clean_words = all_words_freq.index\n",
    "        \n",
    "    # vocabs set\n",
    "    clean_words = set(clean_words)\n",
    "    # convert words to indexes\n",
    "    word2index = {w: i for i, w in enumerate(clean_words, 2)}  # start at 2\n",
    "    word2index['<pad>'] = 1\n",
    "    word2index['<unk>'] = 0\n",
    "\n",
    "    # convert indexes to words\n",
    "    index2word = {i: w for i, w in enumerate(clean_words, 2)}  # start at 2\n",
    "    index2word[1] = '<pad>'\n",
    "    index2word[0] = '<unk>'\n",
    "    \n",
    "    del freq, clean_words # just to save some RAM memory\n",
    "    \n",
    "    return word2index, index2word\n",
    "# process text dict\n",
    "text = pd.concat([train['text'], val['text']], axis=0)\n",
    "word2index, index2word = prepare_text_dict(all_words_freq) # notice that we are won't use the 'test_set' vocabs\n",
    "\n",
    "print('Total vocabs ', len(word2index))"
   ]
  },
  {
   "cell_type": "code",
   "execution_count": 90,
   "metadata": {
    "notebookRunGroups": {
     "groupValue": "12"
    }
   },
   "outputs": [],
   "source": [
    "# import labelencoder   \n",
    "from sklearn.preprocessing import LabelEncoder\n",
    "# instantiate labelencoder object\n",
    "le = LabelEncoder()\n",
    "# apply le on categorical feature columns\n",
    "train['category'] = le.fit_transform(train['category'])\n",
    "val['category'] = le.transform(val['category'])\n",
    "test['category'] = le.transform(test['category'])"
   ]
  },
  {
   "cell_type": "code",
   "execution_count": 91,
   "metadata": {
    "notebookRunGroups": {
     "groupValue": "12"
    }
   },
   "outputs": [],
   "source": [
    "features_cols = new_X.columns[1:-1]\n",
    "#features_cols"
   ]
  },
  {
   "cell_type": "code",
   "execution_count": 92,
   "metadata": {
    "notebookRunGroups": {
     "groupValue": "12"
    }
   },
   "outputs": [],
   "source": [
    "label2encoding = dict(zip(le.classes_, le.transform(le.classes_)))\n",
    "encoding2label = dict(zip(le.transform(le.classes_), le.classes_))"
   ]
  },
  {
   "cell_type": "code",
   "execution_count": 93,
   "metadata": {
    "notebookRunGroups": {
     "groupValue": "12"
    }
   },
   "outputs": [],
   "source": [
    "class Data(Dataset):\n",
    "    def __init__(self, df, word2index):\n",
    "        self.word2index = word2index # to index text\n",
    "\n",
    "        # sort text by length of total words\n",
    "        df['length'] = df['text'].apply(lambda x: len(x.split()))\n",
    "        df.sort_values(by='length', inplace=True)\n",
    "\n",
    "        # prepare data\n",
    "        self.target = df['category'].values\n",
    "        self.text = df['text'].apply(lambda x: x.split()).values\n",
    "        self.features = df.loc[:, features_cols].values\n",
    "\n",
    "    def __len__(self):\n",
    "        return len(self.target)\n",
    "\n",
    "    def __getitem__(self, item):\n",
    "        sequence = [self.word2index[w] for w in self.text[item] if w in self.word2index]\n",
    "        features = self.features[item]\n",
    "        target = self.target[item]\n",
    "\n",
    "        return {'target': target, 'features': features, 'sequence': sequence}\n",
    "\n",
    "\n",
    "def Bert_data(df):\n",
    "    # sort text by length of words\n",
    "    df['length'] = df['text'].apply(lambda x: len(x.split()))\n",
    "    df.sort_values(by='length', inplace=True)\n",
    "\n",
    "     # prepare data\n",
    "    \n",
    "    target = df['category'].values\n",
    "    text = df['text'] # the BertTokenizer will index them so we don't need for word2index\n",
    "    features = df.loc[:, features_cols].values\n",
    "\n",
    "    tokenizer = BertTokenizer.from_pretrained('bert-base-uncased')\n",
    "    x_encoded = tokenizer.batch_encode_plus(text, pad_to_max_length=True)\n",
    "    \n",
    "    input_ids = torch.tensor(x_encoded['input_ids'],  device=device, dtype=torch.long)\n",
    "    attention_mask = torch.tensor(x_encoded[\"attention_mask\"],  device=device, dtype=torch.long) # to mark the text; if it was not a padding index,1 else 0\n",
    "    #print(f'type of target: {type(target)}')\n",
    "    target = torch.tensor(target,  device=device, dtype=torch.long)\n",
    "    features = torch.tensor(features, device=device, dtype=torch.float)\n",
    "    \n",
    "    return TensorDataset(input_ids, attention_mask, features, target)\n",
    "\n",
    "train_data = Data(train, word2index)\n",
    "val_data = Data(val, word2index)\n",
    "test_data = Data(test, word2index)\n",
    "\n",
    "#bert_train_data = Bert_data(train)\n",
    "#bert_val_data = Bert_data(val)\n",
    "#bert_test_data = Bert_data(test)"
   ]
  },
  {
   "cell_type": "code",
   "execution_count": 94,
   "metadata": {
    "notebookRunGroups": {
     "groupValue": "12"
    }
   },
   "outputs": [],
   "source": [
    "def pad_text(list_text, seq_length):\n",
    "    paded_text = []\n",
    "    for text in list_text:\n",
    "\n",
    "        if len(text) == seq_length:\n",
    "            paded_text.append(text)\n",
    "        else:\n",
    "            paded_text.append(text + (seq_length - len(text)) * [1]) # '1' is the index for 'PAD' in vocabs dict\n",
    "\n",
    "    return paded_text\n",
    "\n",
    "\n",
    "def collate_fn_padded(batch):\n",
    "    target = [b['target'] for b in batch]\n",
    "    features = [b['features'] for b in batch]\n",
    "    sequence = [b['sequence'] for b in batch]\n",
    "\n",
    "    # extract max_length\n",
    "    max_length = max([len(b) for b in sequence])\n",
    "    \n",
    "    # pad text\n",
    "    sequence = pad_text(sequence, max_length)\n",
    "\n",
    "    # convert list to torch.tensor\n",
    "    return {'target': torch.tensor(target, device=device, dtype=torch.long),\n",
    "            'features': torch.tensor(features, device=device, dtype=torch.float),\n",
    "            'sequence': torch.tensor(sequence, device=device, dtype=torch.long)\n",
    "            }"
   ]
  },
  {
   "cell_type": "code",
   "execution_count": 95,
   "metadata": {
    "notebookRunGroups": {
     "groupValue": "12"
    }
   },
   "outputs": [],
   "source": [
    "train_loader = DataLoader(train_data, batch_size=32, collate_fn=collate_fn_padded)\n",
    "val_loader = DataLoader(val_data, batch_size=32, collate_fn=collate_fn_padded)\n",
    "test_loader = DataLoader(test_data, batch_size=32, collate_fn=collate_fn_padded)\n",
    "\n",
    "#bert_train_loader = DataLoader(bert_train_data, batch_size=12)\n",
    "#bert_val_loader = DataLoader(bert_val_data, batch_size=12)\n",
    "#bert_test_loader = DataLoader(bert_test_data, batch_size=12)"
   ]
  },
  {
   "cell_type": "code",
   "execution_count": 96,
   "metadata": {
    "notebookRunGroups": {
     "groupValue": "12"
    }
   },
   "outputs": [
    {
     "name": "stdout",
     "output_type": "stream",
     "text": [
      "\n",
      "word2vec embeddings...\n",
      "word2vec embeddings found for our vocabs: 24174 | missing: 0 ; 0.0%\n"
     ]
    }
   ],
   "source": [
    "vocab = word2index\n",
    "word2vec_embeddings = {}\n",
    "print('\\nword2vec embeddings...')\n",
    "# train a word2vec model on our text\n",
    "all_words_lists = [[w for w in text.split()] for text in new_X['text'].values]\n",
    "model = Word2Vec(sentences=all_words_lists, vector_size=VECTOR_SIZE, window=5, min_count=1, workers=4)\n",
    "# save the model\n",
    "model.save('word2vec.model')\n",
    "# load the model\n",
    "model = Word2Vec.load('word2vec.model')\n",
    "# summarize vocabulary\n",
    "words = list(model.wv.index_to_key)\n",
    "for word in vocab.keys():\n",
    "    if word in words:\n",
    "        word2vec_embeddings[word] = model.wv[word]\n",
    "    else:\n",
    "        word2vec_embeddings[word] = np.zeros(VECTOR_SIZE)\n",
    "\n",
    "missing = len(word2index) - len(word2vec_embeddings)\n",
    "print(f'word2vec embeddings found for our vocabs: {len(word2vec_embeddings)} | missing: {missing} ; {missing / len(word2index) * 100:.1f}%')"
   ]
  },
  {
   "cell_type": "code",
   "execution_count": 97,
   "metadata": {
    "notebookRunGroups": {
     "groupValue": "12"
    }
   },
   "outputs": [],
   "source": [
    "\n",
    "# create Look-Up table\n",
    "def create_embedding_matrix(word_index, embedding_dict, dimension):\n",
    "    embedding_matrix = np.zeros((len(vocab) + 1, dimension)) # (len_vocab, 100)\n",
    "\n",
    "    for word, index in word_index.items():\n",
    "        if word in embedding_dict.keys():\n",
    "            embedding_matrix[index] = embedding_dict[word]\n",
    "\n",
    "    return embedding_matrix\n",
    "\n",
    "embedding_matrix = create_embedding_matrix(vocab, word2vec_embeddings, VECTOR_SIZE)"
   ]
  },
  {
   "cell_type": "code",
   "execution_count": 98,
   "metadata": {
    "notebookRunGroups": {
     "groupValue": "12"
    }
   },
   "outputs": [],
   "source": [
    "class LSTM_Model(nn.Module):\n",
    "    def __init__(self, vocab_size, embedding_dim, hidden_size, n_layers, output_size, p=.5, use_features=False,\n",
    "                 features_size=None):\n",
    "\n",
    "        super().__init__()  # This is needed to initialize the nn.Module properly\n",
    "\n",
    "        # 'use_features' if used, we supposed to give text and feature data to the model to make prediction.\n",
    "        # create 'use_features' as 'self.use_features' so we can use it in the hole class functions(e.g. 'forward') instead of just in '__init__' attrbute\n",
    "        self.use_features = use_features\n",
    "\n",
    "        # 'Embedding' layer works like a lookup table(dictionary). The words are the keys in this table, while the dense word vectors are the values.\n",
    "        self.Embedding = nn.Embedding(vocab_size, embedding_dim)\n",
    "\n",
    "        # LSTM is the Long Short-Term Memory layer that will take the vectors represntations and extract the semantics/hidden_states\n",
    "        self.LSTM = nn.LSTM(embedding_dim, hidden_size, num_layers=n_layers, bidirectional=False, batch_first=True, dropout=p)\n",
    "        # if 'batch_first=True' 'hidden' shape will be (num_layers * num_directions, batch, hidden_size)\n",
    "        # if 'batch_first=False' 'hidden' shape will be (num_layers * num_directions, seq_len, hidden_size)\n",
    "        \n",
    "\n",
    "        # A Dense/Linear layer that learn from last_hidden_state (optional layer; you can remove it)\n",
    "        self.Linear = nn.Linear(hidden_size, hidden_size)\n",
    "\n",
    "        # Dropout layer that help regularizing and prevent overfitting (optional layer)\n",
    "        # It randomly zeroes some of the elements of the input tensor with probability 'p'\n",
    "        self.Dropout = nn.Dropout(p)\n",
    "\n",
    "        # Dense/Linear layer to predict the class of the text/sequence\n",
    "        self.output = nn.Linear(hidden_size, output_size)\n",
    "\n",
    "        # add these layers if 'use_features'\n",
    "        if self.use_features:\n",
    "            # this dense layer will take the features and tune its parameters\n",
    "            self.f_Linear = nn.Linear(features_size, hidden_size)\n",
    "\n",
    "            # this dense layer will take the output from 'f_Linear' and predict the class of the text/sequence\n",
    "            self.f_output = nn.Linear(hidden_size, output_size)\n",
    "\n",
    "    def forward(self, x, features=None):  # run the network\n",
    "\n",
    "        Embedding = self.Embedding(x)  # map the words to their vectors representations by the Embedding layer\n",
    "\n",
    "        output, (hidden, cell) = self.LSTM(Embedding)  # calculate the sequence/text sementics\n",
    "        # 'output' comprises all the hidden states in the last layer\n",
    "        # (hidden, cell) comprises the hidden states after the last timestep\n",
    "\n",
    "        # 'cell' state contains info about wether to keep a hidden state or no (num_layers * num_directions, batch, hidden_size)\n",
    "        # 'output' state is a tensor of all the 'hidden' states from each time step  (seq_len, batch, num_directions * hidden_size)\n",
    "        # 'hidden' state is the hidden states from the last time step  (num_layers * num_directions, batch, hidden_size) \n",
    "\n",
    "        last_hidden_state = hidden[-1, :, :]  # last hidden state from the last time step (seq_len, hidden_size)\n",
    "\n",
    "        x = nn.functional.leaky_relu(self.Linear(last_hidden_state), .001)\n",
    "        # 'leaky_relu' is similar to relu activation function, it just let the values to be between '0.001' and any other number\n",
    "\n",
    "        x = self.Dropout(x)  # apply dropout\n",
    "\n",
    "        # combine the outputs of text and features if 'use_features' is 'True'.\n",
    "        # we will multiply each output by 0.5 to get half the original weights, and then combine the two halves\n",
    "        # to have a predictions from both outputs weights.\n",
    "        if self.use_features:\n",
    "\n",
    "            x = self.output(x) * 0.5  # half the weights\n",
    "\n",
    "            x_2 = nn.functional.leaky_relu(self.f_Linear(features), .001)\n",
    "            x_2 = self.f_output(x_2) * 0.5  # half the weights\n",
    "\n",
    "            final_x = x + x_2  # combine the two halves outputs\n",
    "\n",
    "            return final_x\n",
    "\n",
    "        else:\n",
    "            return self.output(x)  # if 'use_features' is 'False' then 'features' output won't be calculated\n"
   ]
  },
  {
   "cell_type": "code",
   "execution_count": 99,
   "metadata": {
    "notebookRunGroups": {
     "groupValue": "12"
    }
   },
   "outputs": [],
   "source": [
    "class CNN_Model(nn.Module):\n",
    "    def __init__(self, vocab_size, embedding_dim, hidden_size, n_filters, filter_sizes, output_size, p=.5, use_features=False,\n",
    "                 features_size=None):\n",
    "        super().__init__()\n",
    "        self.use_features = use_features\n",
    "        self.Embedding = nn.Embedding(vocab_size, embedding_dim)\n",
    "\n",
    "        # we will build 'Conv2d' layers as much as the amount of 'filter_sizes' list\n",
    "        # the 'kernel_size' will be (filter_size, embedding_dim),\n",
    "        # 'filter_size' is the number words to take as 'n-gram'\n",
    "        # 'embedding_dim' is the vector representation for the word (Embedding dimentions)\n",
    "        # 'ModuleList' helps in creating more then one layer at once\n",
    "        print(filter_sizes)\n",
    "        self.convs = nn.ModuleList(nn.Conv2d(1, n_filters, (ks, embedding_dim)) for ks in filter_sizes)  # 'convs' will be as much as 'filter_sizes' list\n",
    "\n",
    "        # note: There is no hidden layer between 'convs' layers and 'output' layer\n",
    "\n",
    "\n",
    "        # we will concatenate all 'convs' layers outputs and feed them to the 'output' layer\n",
    "        self.output = nn.Linear(len(filter_sizes) * n_filters, output_size)\n",
    "\n",
    "        self.Dropout = nn.Dropout(p)\n",
    "\n",
    "        if self.use_features:\n",
    "            self.f_Linear = nn.Linear(features_size, hidden_size)\n",
    "            self.f_output = nn.Linear(hidden_size, output_size)\n",
    "\n",
    "    def forward(self, x, features=None):\n",
    "        # the 'Conv2d layer' wants inputs of shape (batch, Channel, Height, Width)\n",
    "        # our text is of shape(batch, seq_lens)\n",
    "\n",
    "        # after feeding text to the 'Embedding' layer, we will have shape(batch, seq_lens, embedding_dim)\n",
    "        Embedding = self.Embedding(x)\n",
    "\n",
    "        # the convolutional layer wants the inputs to be of\n",
    "        # shape(batch,  Channel, Height, Width) and the 'Embedding' layer's output is shape(batch, seq_lens, embedding_dim)\n",
    "        # to make 'Embedding' output correct to feed a 'convs' layer, its shape must be same as the shape of a conv layer.\n",
    "\n",
    "        # the batch in conv shape exist in 'Embedding' shape.\n",
    "        # the Channel in conv shape will be the number of embedding layers; in our case it's 1 'Embedding' layer.\n",
    "        # the Height in conv shape  will be the 'seq_lens'(num words or n-gram)\n",
    "        # the Width in conv shape  will be the 'embedding_dim'(vector representation of a word)\n",
    "\n",
    "        # conv(batch, Channel, Height, Width) = Embedding(batch, num_embeddings, seq_lens, embedding_dim)\n",
    "        Embedding = Embedding.unsqueeze(1) # create Channel dimension\n",
    "\n",
    "        convs = [F.relu(c(Embedding)).squeeze(3) for c in self.convs]\n",
    "        # after applying a conv layer, the output will be of shape (batch, Height, Width, Channel)\n",
    "        # the 'max_pool1d' layer doesn't want the channel dimension(third dim), so we will remove/squeeze it by using .squeeze(3)\n",
    "\n",
    "        convs = [F.max_pool1d(c, c.shape[2]).squeeze(2) for c in convs]\n",
    "        # the kernel_size is the word embedding_dim (c.shape[2]; which is the Width dimension(second dim) ).\n",
    "        # since the Width dimension (c.shape[2]) is pooled, the second dimension is empty.\n",
    "        # so we will remove/squeeze it by using .squeeze(2)\n",
    "\n",
    "        # we will concatenate all 'convs' outputs (note that 'convs' is a list of all 'convs' layers\n",
    "        # outputs; e.g. [conv1, conv2, ...])\n",
    "\n",
    "        # the shape is, 'batch_size' and the sum of all the filters of all 'convs'\n",
    "        # layers (e.g. n_filter1 + n_filter2 ..., depending on how many conv layer there)\n",
    "        total_pools = torch.cat(convs, dim=1)  # (batch, total_filters)\n",
    "\n",
    "        x = self.Dropout(total_pools)\n",
    "\n",
    "        if self.use_features:\n",
    "            x = self.output(x) * 0.5\n",
    "            x_2 = nn.functional.leaky_relu(self.f_Linear(features), .001)\n",
    "            x_2 = self.f_output(x_2) * 0.5\n",
    "            final_x = x + x_2\n",
    "            return final_x\n",
    "        else:\n",
    "            return self.output(x)\n",
    "\n",
    "\n",
    "# We have to build a function that pad tha sequences that are less then the filter size\n",
    "# The model will throw an error if a sentence/sequence is less then the kernel_size of certain conv, so we must pad it\n",
    "# to the maximum size of kernel_size.\n",
    "def cnn_padding_to_match_filtersize(text, filter_sizes):\n",
    "    features_ = []\n",
    "    for f in text:\n",
    "        f = f.cpu().numpy().tolist()\n",
    "        if len(f) < max(filter_sizes):\n",
    "            f += [1] * (max(filter_sizes) - len(f))\n",
    "            features_.append(f)\n",
    "        else:\n",
    "            features_.append(f)\n",
    "\n",
    "    return torch.LongTensor(features_).to(device)\n"
   ]
  },
  {
   "cell_type": "code",
   "execution_count": 100,
   "metadata": {
    "notebookRunGroups": {
     "groupValue": "12"
    }
   },
   "outputs": [],
   "source": [
    "def train_func(model, optimizer, criterion, iterator, using_features=False):\n",
    "    # create lists to append the scores of each metric from every batch, so we can take the mean/average of each metric as the final scores\n",
    "    accuracy_list = []\n",
    "    f1_list = []\n",
    "    loss_list = []\n",
    "    \n",
    "    model.train() # train mode (has specific impact on some layers,e.g. Dropout layer)\n",
    "    \n",
    "    for batch in iterator: # loop over the whole data batch-by-batch\n",
    "        optimizer.zero_grad()\n",
    "        text = batch['sequence']\n",
    "        features = batch['features']\n",
    "        label = batch['target']\n",
    "        if type(model).__name__ == 'CNN_Model':  # for CNN training\n",
    "            # CNN is using filter_sizes(e.g. 3, 4, 5), every conv layer has sepcific kernel size\n",
    "            # a conv layer kernel size is (kernel_size, embedding_dim), so we must pad short texts to the maximum size of filter_sizes list\n",
    "            # we will do this using the function we created before (in CNN archeticture).\n",
    "\n",
    "            filter_sizes = [2, 3, 5, 7]\n",
    "            if using_features:\n",
    "                output = model(cnn_padding_to_match_filtersize(text, filter_sizes), features)\n",
    "            else:\n",
    "                output = model(cnn_padding_to_match_filtersize(text, filter_sizes))\n",
    "\n",
    "        else:  # for other models\n",
    "            if using_features:\n",
    "                output = model(text, features)\n",
    "            else:\n",
    "                output = model(text)\n",
    "                \n",
    "        loss = criterion(output, label) # calcualte loss function\n",
    "        loss.backward() # backprobgate loss function\n",
    "\n",
    "        # Gradient clipping is a technique that tackles exploding gradients. \n",
    "        # The idea of gradient clipping is very simple: If the gradient gets too large, we rescale it to keep it small.\n",
    "        nn.utils.clip_grad_norm_(model.parameters(), 1) # optinal \n",
    "        \n",
    "        # calculate optimizer\n",
    "        optimizer.step()\n",
    "\n",
    "        # take the index class for the maximum prediction probability (e.g. [.2, .3, .5], output.argmax(1) will be index 2 is max arg)\n",
    "        output = output.argmax(1) # 1 will be the 1-axis/dim\n",
    "        \n",
    "        # detach: to exclude elements of computation from gradient calculation(backward)\n",
    "        # cpu: convert the data from GPU cache to CPU cache\n",
    "        # detach: convert data from torch tensor to np array so we can use any metric(it's build with numpy API so it doesn't except torch API) \n",
    "        output = output.detach().cpu().numpy() \n",
    "        label = label.detach().cpu().numpy()\n",
    "\n",
    "        # append metrices values \n",
    "        loss_list.append(loss.detach().cpu().numpy().item()) # item will give you just the loss value\n",
    "        accuracy_list.append(accuracy_score(label, output)) # calculate accuracy_score\n",
    "        f1_list.append(f1_score(label, output, average='macro')) # calculate f1_score\n",
    "\n",
    "    # calculate the mean value of the whole epoch\n",
    "    loss = np.mean(loss_list).round(4) # round(4) will give us the last 4 numbers after '.' (e.g. 2.9567)\n",
    "    f1 = np.round(np.mean(f1_list) * 100, 1) # multiply the value with 100 so it will look like percentage (e.g. 0.99 * 100 = 99)\n",
    "    accuracy = np.round(np.mean(accuracy_list) * 100, 1)  # multiply the value with 100 so it will look like percentage (e.g. 0.99 * 100 = 99)\n",
    "\n",
    "    return loss, f1, accuracy"
   ]
  },
  {
   "cell_type": "code",
   "execution_count": 101,
   "metadata": {
    "notebookRunGroups": {
     "groupValue": "12"
    }
   },
   "outputs": [],
   "source": [
    "def eval_func(model, criterion, iterator, using_features=False):\n",
    "    # create lists to append the scores of each metric from every batch, so we can take the mean/average of each metric as the final scores\n",
    "    accuracy_list = []\n",
    "    f1_list = []\n",
    "    loss_list = []\n",
    "\n",
    "    model.eval() # train mode (has specific impact on some layers,e.g. Dropout layer)\n",
    "    \n",
    "    for batch in iterator:# loop over the whole data batch-by-batch\n",
    "        # PREPARE DATA\n",
    "        text = batch['sequence']\n",
    "        features = batch['features']\n",
    "        label = batch['target']\n",
    "            \n",
    "        # FEED MODEL\n",
    "        \n",
    "        with torch.no_grad(): # don't  calculate  gradients\n",
    "            if type(model).__name__ == 'CNN_Model':  # for CNN model\n",
    "                # CNN is using filter_sizes(e.g. 3, 4, 5), every conv layer has sepcific kernel size\n",
    "                # conv layer kernel size is of shape(kernel_size, embedding_dim), so we must pad short texts to the maximum size filter_sizes\n",
    "                # we will do this using the function we created before (in CNN archeticture).\n",
    "                filter_sizes = [2, 3, 5, 7]\n",
    "                if using_features: \n",
    "                    output = model(cnn_padding_to_match_filtersize(text, filter_sizes), features)\n",
    "                else:\n",
    "                    output = model(cnn_padding_to_match_filtersize(text, filter_sizes))\n",
    "\n",
    "            else:  # for other models\n",
    "                if using_features:\n",
    "                    output = model(text, features)\n",
    "                else:\n",
    "                    output = model(text)\n",
    "\n",
    "            loss = criterion(output, label) # calcualte loss function\n",
    "\n",
    "        # take the index class for the maximum prediction probability (e.g. [.2, .3, .5], output.argmax(1) will be index 2 is max arg)\n",
    "        output = output.argmax(1) # 1 will be the 1-axis/dim\n",
    "        \n",
    "        # detach: to exclude elements of computation from gradient calculation(backward)\n",
    "        # cpu: convert the data from GPU cache to CPU cache\n",
    "        # detach: convert data from torch tensor to np array so we can use any metric(it's build with numpy API so it doesn't except torch API) \n",
    "        output = output.detach().cpu().numpy() \n",
    "        label = label.detach().cpu().numpy()\n",
    "\n",
    "        # append metrices values \n",
    "        loss_list.append(loss.detach().cpu().numpy().item()) # item will give you just the loss value\n",
    "        accuracy_list.append(accuracy_score(label, output)) # calculate accuracy_score\n",
    "        f1_list.append(f1_score(label, output, average='macro')) # calculate f1_score\n",
    "\n",
    "    # calculate the mean value of the whole epoch\n",
    "    loss = np.mean(loss_list).round(4) # round(4) will give us the last 4 numbers after '.' (e.g. 2.9567)\n",
    "    f1 = np.round(np.mean(f1_list) * 100, 1) # multiply the value with 100 so it will look like percentage (e.g. 0.99 * 100 = 99)\n",
    "    accuracy = np.round(np.mean(accuracy_list) * 100, 1)  # multiply the value with 100 so it will look like percentage (e.g. 0.99 * 100 = 99)\n",
    "\n",
    "    return loss, f1, accuracy"
   ]
  },
  {
   "cell_type": "code",
   "execution_count": 102,
   "metadata": {
    "notebookRunGroups": {
     "groupValue": "12"
    }
   },
   "outputs": [],
   "source": [
    "# --- pred loop --- #\n",
    "def pred(model, iterator, loss_function, using_features=False):\n",
    "    # create lists to append the scores of each metric from every batch, so we can take the mean/average of each metric as the final scores\n",
    "    accuracy_list = []\n",
    "    f1_list = []\n",
    "    loss_list = []\n",
    "\n",
    "    model.eval() # train mode (has specific impact on some layers,e.g. Dropout layer)\n",
    "    \n",
    "    for batch in iterator:# loop over the whole data batch-by-batch\n",
    "        # PREPARE DATA \n",
    "        # extract non-BERT data if the current model is not BERT\n",
    "        text = batch['sequence']\n",
    "        features = batch['features']\n",
    "        label = batch['target']\n",
    "\n",
    "        # FEED DATA\n",
    "        with torch.no_grad(): # don't calculate gradients\n",
    "            if type(model).__name__ == 'CNN_Model':  # for CNN model\n",
    "                # CNN is using filter_sizes(e.g. 3, 4, 5), every conv layer has sepcific kernel size\n",
    "                # conv layer kernel size is of shape(kernel_size, embedding_dim), so we must pad short texts to the maximum size filter_sizes\n",
    "                # we will do this using the function we created before (in CNN archeticture).\n",
    "                \n",
    "                filter_sizes = [2, 3, 5, 7]\n",
    "                if using_features:\n",
    "                    output = model(cnn_padding_to_match_filtersize(text, filter_sizes), features)\n",
    "                else:\n",
    "                    output = model(cnn_padding_to_match_filtersize(text, filter_sizes))\n",
    "\n",
    "            else:  # for other models\n",
    "                if using_features:\n",
    "                    output = model(text, features)\n",
    "                else:\n",
    "                    output = model(text)\n",
    "\n",
    "            loss = loss_function(output, label) # calcualte loss function\n",
    "        \n",
    "        # take the index class for the maximum prediction probability (e.g. [.2, .3, .5], output.argmax(1) will be index 2 is max arg)\n",
    "        output = output.argmax(1) # 1 will be the 1-axis/dim\n",
    "        \n",
    "        # detach: to exclude elements of computation from gradient calculation(backward)\n",
    "        # cpu: convert the data from GPU cache to CPU cache\n",
    "        # detach: convert data from torch tensor to np array so we can use any metric(it's build with numpy API so it doesn't except torch API) \n",
    "        output = output.detach().cpu().numpy() \n",
    "        label = label.detach().cpu().numpy()\n",
    "\n",
    "        # append metrices values \n",
    "        loss_list.append(loss.detach().cpu().numpy().item()) # item will give you just the loss value\n",
    "        accuracy_list.append(accuracy_score(label, output)) # calculate accuracy_score\n",
    "        f1_list.append(f1_score(label, output, average='macro')) # calculate f1_score\n",
    "\n",
    "    # calculate the mean value of the whole epoch\n",
    "    loss = np.mean(loss_list).round(4) # round(4) will give us the last 4 numbers after '.' (e.g. 2.9567)\n",
    "    f1 = np.round(np.mean(f1_list) * 100, 1) # multiply the value with 100 so it will look like percentage (e.g. 0.99 * 100 = 99)\n",
    "    accuracy = np.round(np.mean(accuracy_list) * 100, 1)  # multiply the value with 100 so it will look like percentage (e.g. 0.99 * 100 = 99)\n",
    "    name = type(model).__name__ # the name of the Model\n",
    "\n",
    "    return loss, f1, accuracy, name"
   ]
  },
  {
   "cell_type": "code",
   "execution_count": 103,
   "metadata": {
    "notebookRunGroups": {
     "groupValue": "12"
    }
   },
   "outputs": [],
   "source": [
    "def training_model(model, optimizer, criterion, train_iterator, eval_iterator, epochs=1000, using_features=False):\n",
    "    print('\\nTraining Started...\\n')\n",
    "    # for early stopping\n",
    "    stop = 0  # increase this number if the model didn't become more accurate compared to the last best epoch\n",
    "    min_eval_acc = 0. # assign this number as the best evaluation accuracy score\n",
    "\n",
    "    for epoch in range(epochs): # Epochs Loop \n",
    "    \n",
    "        loss, f1, acc = train_func(model, optimizer, criterion, train_iterator, using_features)  # train model\n",
    "        eval_loss, eval_f1, eval_acc = eval_func(model, criterion, eval_iterator, using_features)  # evaluate model\n",
    "\n",
    "\n",
    "        # save current-epoch model file, so we can coninue training later (fine-tuning the paremeters of last epoch). and delete\n",
    "        # the previous current-epoch model file, to avoid making lots of files(you can delete this section if you want)\n",
    "        # best model scores\n",
    "        if eval_acc > min_eval_acc: # current accuracy greater then the best accuracy \n",
    "            min_eval_acc = eval_acc # assign 'min_eval_acc' as the best accuracy\n",
    "            #training scores\n",
    "            best_loss = loss\n",
    "            best_acc = acc\n",
    "            best_f1 = f1\n",
    "            \n",
    "            #evaluation scores\n",
    "            best_eval_loss = eval_loss\n",
    "            best_eval_acc = eval_acc\n",
    "            best_eval_f1 = eval_f1\n",
    "\n",
    "            best_model = model.state_dict() # best model parameters\n",
    "            best_epoch = epoch + 1  # '+ 1' because 'epoch' starts from 0\n",
    "            stop = 0 # reset 'stop' counter\n",
    "            # print the current as the 'Best Epoch score'\n",
    "            print(\n",
    "                f'BEST Epoch({best_epoch} | Train(loss: {best_loss} | acc: {best_acc} | f1-score: {best_f1}) & Eval(loss: {best_eval_loss} | acc: {best_eval_acc} | f1-score: {best_eval_f1})\\n')\n",
    "            return best_model, best_epoch, best_loss, best_acc, best_f1, best_eval_loss, best_eval_acc, best_eval_f1\n",
    "\n",
    "        # if current accuracy wasn't greater then the best accuracy add 1 to 'stop'\n",
    "        else:\n",
    "            stop += 1\n",
    "            # print the current epoch as the 'Normal Epoch score'\n",
    "            print(\n",
    "                f'Epoch({epoch + 1} | Train(loss: {loss} | acc: {acc} | f1-score: {f1}) & Eval(loss: {eval_loss} | acc: {eval_acc} | f1-score: {eval_f1})\\n')\n",
    "        \n",
    "        # if 'stop' reached 5 it will stop training\n",
    "        if stop == 5:\n",
    "            print('EARLY STOPPING!')\n",
    "            # print the best epoch recorded during the whole training\n",
    "            print(\n",
    "                f'BEST EPOCH({best_epoch} | Train(loss:{best_loss} | acc:{best_acc} | f1-score:{best_f1}) & Eval(loss: {best_eval_loss} | acc: {best_eval_acc} | f1-score: {best_eval_f1})\\n')\n",
    "            return best_model, best_epoch, best_loss, best_acc, best_f1, best_eval_loss, best_eval_acc, best_eval_f1\n",
    "            # save best model\n",
    "            # torch.save(best_model, f'epoch_{best_epoch}_val_loss_{best_eval_loss}_val_acc_{best_eval_acc}_val_f1_{best_eval_f1}.pt')\n",
    "            break"
   ]
  },
  {
   "cell_type": "code",
   "execution_count": 104,
   "metadata": {
    "notebookRunGroups": {
     "groupValue": "12"
    }
   },
   "outputs": [
    {
     "name": "stdout",
     "output_type": "stream",
     "text": [
      "Size Of Vocab:  24174\n",
      "[2, 3, 5, 7]\n"
     ]
    }
   ],
   "source": [
    "vocab_size = len(word2index)\n",
    "embedding_dim = 50\n",
    "output_size = len(le.classes_)\n",
    "\n",
    "hidden_size = 64\n",
    "filter_sizes = [2, 3, 5, 7]\n",
    "n_filters = 64\n",
    "n_layers = 2\n",
    "filter_sizes = [2, 3, 5, 7]\n",
    "print('Size Of Vocab: ', vocab_size)\n",
    "\n",
    "\n",
    "model_lstm = LSTM_Model(vocab_size, embedding_dim, hidden_size, n_layers, output_size)\n",
    "\n",
    "model_cnn = CNN_Model(vocab_size, embedding_dim, hidden_size, n_filters, filter_sizes, output_size)\n",
    "models = [model_cnn, model_lstm]\n",
    "\n"
   ]
  },
  {
   "cell_type": "code",
   "execution_count": 107,
   "metadata": {
    "notebookRunGroups": {
     "groupValue": "12"
    }
   },
   "outputs": [
    {
     "name": "stdout",
     "output_type": "stream",
     "text": [
      "----------------------\n",
      "----------------------\n",
      "model Name:  CNN_Model\n",
      "CNN_Model has 1,265,926 trainable parameters\n",
      "\n",
      "Training Started...\n",
      "\n",
      "BEST Epoch(1 | Train(loss: 1.3289 | acc: 55.7 | f1-score: 46.3) & Eval(loss: 1.5411 | acc: 49.5 | f1-score: 39.1)\n",
      "\n",
      "----------------------\n",
      "----------------------\n",
      "model Name:  LSTM_Model\n",
      "LSTM_Model has 1,276,486 trainable parameters\n",
      "\n",
      "Training Started...\n",
      "\n",
      "BEST Epoch(1 | Train(loss: 1.7852 | acc: 33.1 | f1-score: 18.5) & Eval(loss: 1.9407 | acc: 30.2 | f1-score: 16.6)\n",
      "\n"
     ]
    }
   ],
   "source": [
    "loss_function = nn.CrossEntropyLoss().to(device)\n",
    "def count_parameters(model):\n",
    "    # to know how many parametres a 'trained' model has  \n",
    "    return sum(p.numel() for p in model.parameters() if p.requires_grad)\n",
    "for clf in models:\n",
    "    print('----------------------')\n",
    "    print('----------------------')\n",
    "    print('model Name: ', type(clf).__name__) # print Model Name\n",
    "    print(f'{type(clf).__name__} has {count_parameters(clf):,} trainable parameters') # print Model Total Parameters \n",
    "    clf = clf.to(device) # convert model to GPU memory for fast training\n",
    "    # use flexible learning rate\n",
    "    \n",
    "    optimizer = AdamW(clf.parameters(), lr= 0.001, weight_decay=0.1) # assign AdamW as optimizer\n",
    "    \n",
    "    training_model(clf, optimizer, loss_function, train_loader, val_loader, epochs=100, using_features=False)"
   ]
  },
  {
   "cell_type": "markdown",
   "metadata": {},
   "source": [
    "#### result\n",
    "2k - Top_50_VecSize50, learning_rate-0.01, \n",
    "LSTM, 17.3\n",
    "CNN, 42.4\n",
    "\n",
    "6k - Top_50_VecSize50, learning_rate-0.01, \n",
    "LSTM, 29.5\n",
    "CNN, 45.5\n",
    "\n",
    "10k - Top_50_VecSize50, learning_rate-0.01, \n",
    "LSTM, 57.1\n",
    "CNN, 59.6\n",
    "\n",
    "30k - Top_50_VecSize50, learning_rate-0.01, \n",
    "LSTM, 66.9\n",
    "CNN, 62.7"
   ]
  },
  {
   "cell_type": "code",
   "execution_count": null,
   "metadata": {},
   "outputs": [],
   "source": []
  },
  {
   "cell_type": "code",
   "execution_count": null,
   "metadata": {},
   "outputs": [],
   "source": []
  },
  {
   "cell_type": "code",
   "execution_count": 226,
   "metadata": {},
   "outputs": [],
   "source": [
    "vectorizer = TfidfVectorizer()\n",
    "# transform the text into a vector\n",
    "X_vec = vectorizer.fit_transform(X)"
   ]
  },
  {
   "cell_type": "code",
   "execution_count": 230,
   "metadata": {},
   "outputs": [],
   "source": [
    "# standardize the data\n",
    "from sklearn.preprocessing import StandardScaler\n",
    "scaler = StandardScaler(with_mean=False)\n",
    "X_vec_std = scaler.fit_transform(X_vec)"
   ]
  },
  {
   "cell_type": "code",
   "execution_count": null,
   "metadata": {},
   "outputs": [],
   "source": []
  },
  {
   "cell_type": "code",
   "execution_count": 236,
   "metadata": {},
   "outputs": [
    {
     "data": {
      "image/png": "[encoded data removed]",
      "text/plain": [
       "<Figure size 1000x600 with 1 Axes>"
      ]
     },
     "metadata": {},
     "output_type": "display_data"
    }
   ],
   "source": [
    "# plot the explained variance ratio\n",
    "plt.figure(figsize=(10, 6))\n",
    "plt.plot(np.cumsum(pca.explained_variance_ratio_))\n",
    "plt.xlabel('Number of Components')\n",
    "plt.ylabel('Explained Variance Ratio')\n",
    "plt.title('Explained Variance Ratio vs Number of Components')\n",
    "plt.show()"
   ]
  },
  {
   "cell_type": "code",
   "execution_count": 235,
   "metadata": {},
   "outputs": [
    {
     "name": "stdout",
     "output_type": "stream",
     "text": [
      "cumulative explained variance values: \n",
      "           0\n",
      "0   0.003014\n",
      "1   0.005143\n",
      "2   0.006641\n",
      "3   0.008057\n",
      "4   0.009416\n",
      "..       ...\n",
      "95  0.104143\n",
      "96  0.105015\n",
      "97  0.105887\n",
      "98  0.106757\n",
      "99  0.107625\n",
      "\n",
      "[100 rows x 1 columns]\n"
     ]
    },
    {
     "data": {
      "image/png": "[encoded data removed]",
      "text/plain": [
       "<Figure size 640x480 with 1 Axes>"
      ]
     },
     "metadata": {},
     "output_type": "display_data"
    }
   ],
   "source": [
    "# plot PCA explained_variance_ratio_\n",
    "plt.plot(np.cumsum(pca.explained_variance_ratio_))\n",
    "#plt.axhline(y=.90, color = 'r', linestyle = '--') \n",
    "plt.xlabel('number of components')\n",
    "plt.ylabel('cumulative explained variance')\n",
    "\n",
    "# create dataframe of explained_variance_ratio_ values\n",
    "cumsum = pd.DataFrame(np.cumsum(pca.explained_variance_ratio_))\n",
    "print('cumulative explained variance values: ')\n",
    "print(cumsum)"
   ]
  },
  {
   "cell_type": "code",
   "execution_count": null,
   "metadata": {},
   "outputs": [],
   "source": []
  }
 ],
 "metadata": {
  "kernelspec": {
   "display_name": "tf",
   "language": "python",
   "name": "python3"
  },
  "language_info": {
   "codemirror_mode": {
    "name": "ipython",
    "version": 3
   },
   "file_extension": ".py",
   "mimetype": "text/x-python",
   "name": "python",
   "nbconvert_exporter": "python",
   "pygments_lexer": "ipython3",
   "version": "3.9.16"
  },
  "orig_nbformat": 4
 },
 "nbformat": 4,
 "nbformat_minor": 2
}
